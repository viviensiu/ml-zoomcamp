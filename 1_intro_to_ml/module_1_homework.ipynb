{
 "cells": [
  {
   "cell_type": "code",
   "execution_count": 1,
   "id": "602f3a21-6469-40ed-9e57-554823515077",
   "metadata": {},
   "outputs": [],
   "source": [
    "import pandas as pd\n",
    "import numpy as np"
   ]
  },
  {
   "cell_type": "markdown",
   "id": "95d08fae-4e5c-4d6d-9293-1ca56f882fa4",
   "metadata": {},
   "source": [
    "### Q1. Pandas version\n",
    "What's the version of Pandas that you installed?\n",
    "\n",
    "You can get the version information using the `__version__` field:"
   ]
  },
  {
   "cell_type": "code",
   "execution_count": 2,
   "id": "b6f32313-e949-47b0-9734-a426e4edcba6",
   "metadata": {},
   "outputs": [
    {
     "data": {
      "text/plain": [
       "'2.2.2'"
      ]
     },
     "execution_count": 2,
     "metadata": {},
     "output_type": "execute_result"
    }
   ],
   "source": [
    "pd.__version__"
   ]
  },
  {
   "cell_type": "markdown",
   "id": "06d35e9e-41ea-402a-9496-f614a448f475",
   "metadata": {},
   "source": [
    "### Getting the data\n",
    "For this homework, we'll use the Laptops Price dataset. Download it from here.\n",
    "\n",
    "You can do it with wget:\n",
    "\n",
    "```bash\n",
    "wget https://raw.githubusercontent.com/alexeygrigorev/datasets/master/laptops.csv\n",
    "```\n",
    "Or just open it with your browser and click \"Save as...\".\n",
    "\n",
    "Now read it with Pandas.\n",
    "\n",
    "### Q2. Records count\n",
    "How many records are in the dataset?\n",
    "\n",
    "* 12\n",
    "* 1000\n",
    "* 2160\n",
    "* 12160"
   ]
  },
  {
   "cell_type": "code",
   "execution_count": 3,
   "id": "05dda6d6-9673-4b6d-921c-db73162b4028",
   "metadata": {},
   "outputs": [],
   "source": [
    "df = pd.read_csv(\"https://raw.githubusercontent.com/alexeygrigorev/datasets/master/laptops.csv\")"
   ]
  },
  {
   "cell_type": "code",
   "execution_count": 4,
   "id": "66a38293-00da-409d-8dea-4d220912842a",
   "metadata": {},
   "outputs": [
    {
     "data": {
      "text/plain": [
       "2160"
      ]
     },
     "execution_count": 4,
     "metadata": {},
     "output_type": "execute_result"
    }
   ],
   "source": [
    "df.shape[0]"
   ]
  },
  {
   "cell_type": "markdown",
   "id": "20a9f7b1-97a3-4aa5-a81d-7d6a820174da",
   "metadata": {},
   "source": [
    "### Q3. Laptop brands\n",
    "How many laptop brands are presented in the dataset?\n",
    "\n",
    "* 12\n",
    "* 27\n",
    "* 28\n",
    "* 2160"
   ]
  },
  {
   "cell_type": "code",
   "execution_count": 5,
   "id": "3ff984ee-0109-4f57-a6da-60d307bb78f0",
   "metadata": {},
   "outputs": [
    {
     "data": {
      "text/plain": [
       "Index(['Laptop', 'Status', 'Brand', 'Model', 'CPU', 'RAM', 'Storage',\n",
       "       'Storage type', 'GPU', 'Screen', 'Touch', 'Final Price'],\n",
       "      dtype='object')"
      ]
     },
     "execution_count": 5,
     "metadata": {},
     "output_type": "execute_result"
    }
   ],
   "source": [
    "df.columns"
   ]
  },
  {
   "cell_type": "code",
   "execution_count": 6,
   "id": "31221e6e-7efa-4cc6-82ec-6798d1e4752e",
   "metadata": {},
   "outputs": [
    {
     "data": {
      "text/plain": [
       "27"
      ]
     },
     "execution_count": 6,
     "metadata": {},
     "output_type": "execute_result"
    }
   ],
   "source": [
    "df['Brand'].nunique()"
   ]
  },
  {
   "cell_type": "markdown",
   "id": "6b1db020-9a2c-4520-9f04-108b845db645",
   "metadata": {},
   "source": [
    "### Q4. Missing values\n",
    "How many columns in the dataset have missing values?\n",
    "\n",
    "* 0\n",
    "* 1\n",
    "* 2\n",
    "* 3"
   ]
  },
  {
   "cell_type": "code",
   "execution_count": 7,
   "id": "f38d2b87-f064-479d-8574-c815b0bad01f",
   "metadata": {},
   "outputs": [
    {
     "data": {
      "text/plain": [
       "Laptop          False\n",
       "Status          False\n",
       "Brand           False\n",
       "Model           False\n",
       "CPU             False\n",
       "RAM             False\n",
       "Storage         False\n",
       "Storage type     True\n",
       "GPU              True\n",
       "Screen           True\n",
       "Touch           False\n",
       "Final Price     False\n",
       "dtype: bool"
      ]
     },
     "execution_count": 7,
     "metadata": {},
     "output_type": "execute_result"
    }
   ],
   "source": [
    "df.isnull().sum() > 0"
   ]
  },
  {
   "cell_type": "code",
   "execution_count": 8,
   "id": "005b7204-dbd2-4498-9a54-191cf4a6dda0",
   "metadata": {},
   "outputs": [
    {
     "data": {
      "text/plain": [
       "3"
      ]
     },
     "execution_count": 8,
     "metadata": {},
     "output_type": "execute_result"
    }
   ],
   "source": [
    "(df.isnull().sum() > 0).sum()"
   ]
  },
  {
   "cell_type": "markdown",
   "id": "c6f3c86d-5b0f-4f9a-9da2-89109666cca7",
   "metadata": {},
   "source": [
    "### Q5. Maximum final price\n",
    "What's the maximum final price of Dell notebooks in the dataset?\n",
    "\n",
    "* 869\n",
    "* 3691\n",
    "* 3849\n",
    "* 3936"
   ]
  },
  {
   "cell_type": "code",
   "execution_count": 9,
   "id": "3c40aa4c-f023-45c3-8582-47b133096a7a",
   "metadata": {},
   "outputs": [
    {
     "data": {
      "text/plain": [
       "3936.0"
      ]
     },
     "execution_count": 9,
     "metadata": {},
     "output_type": "execute_result"
    }
   ],
   "source": [
    "df[df.Brand == 'Dell']['Final Price'].max()"
   ]
  },
  {
   "cell_type": "markdown",
   "id": "1653613c-0cdf-4ce0-b135-d975cecd6c08",
   "metadata": {},
   "source": [
    "### Q6. Median value of Screen\n",
    "1. Find the median value of `Screen` column in the dataset.\n",
    "2. Next, calculate the most frequent value of the same `Screen` column.\n",
    "3. Use `fillna` method to fill the missing values in `Screen` column with the most frequent value from the previous step.\n",
    "4. Now, calculate the median value of `Screen` once again.\n",
    "\n",
    "Has it changed?\n",
    "\n",
    "Hint: refer to existing `mode` and `median` functions to complete the task.\n",
    "\n",
    "* Yes\n",
    "* No"
   ]
  },
  {
   "cell_type": "code",
   "execution_count": 10,
   "id": "816c5e4c-3be9-42b0-be61-6c549d7c737b",
   "metadata": {},
   "outputs": [
    {
     "data": {
      "text/plain": [
       "15.6"
      ]
     },
     "execution_count": 10,
     "metadata": {},
     "output_type": "execute_result"
    }
   ],
   "source": [
    "df['Screen'].median()"
   ]
  },
  {
   "cell_type": "code",
   "execution_count": 11,
   "id": "19d3bdaa-cf08-4c26-a8e5-1a655b009276",
   "metadata": {},
   "outputs": [
    {
     "data": {
      "text/plain": [
       "15.6"
      ]
     },
     "execution_count": 11,
     "metadata": {},
     "output_type": "execute_result"
    }
   ],
   "source": [
    "# retrieve the mode value instead of a Pd Series object\n",
    "mode = df['Screen'].mode().loc[0]\n",
    "mode"
   ]
  },
  {
   "cell_type": "code",
   "execution_count": 12,
   "id": "035b4ee9-21e1-4d5d-b193-3f5cd11cb394",
   "metadata": {},
   "outputs": [],
   "source": [
    "df['Screen'] = df['Screen'].fillna(mode)"
   ]
  },
  {
   "cell_type": "code",
   "execution_count": 13,
   "id": "0939ad21-ecfc-4a88-8869-1332483c69c5",
   "metadata": {},
   "outputs": [
    {
     "data": {
      "text/plain": [
       "15.6"
      ]
     },
     "execution_count": 13,
     "metadata": {},
     "output_type": "execute_result"
    }
   ],
   "source": [
    "df['Screen'].median()"
   ]
  },
  {
   "cell_type": "markdown",
   "id": "57dc08b9-ddb9-450f-b683-5186f3df7001",
   "metadata": {},
   "source": [
    "### Q7. Sum of weights\n",
    "1. Select all the \"Innjoo\" laptops from the dataset.\n",
    "2. Select only columns `RAM, Storage, Screen`.\n",
    "3. Get the underlying NumPy array. Let's call it X.\n",
    "4. Compute matrix-matrix multiplication between the transpose of X and X. To get the transpose, use X.T. Let's call the result XTX.\n",
    "5. Compute the inverse of XTX.\n",
    "6. Create an array y with values [1100, 1300, 800, 900, 1000, 1100].\n",
    "7. Multiply the inverse of XTX with the transpose of X, and then multiply the result by y. Call the result w.\n",
    "8. What's the sum of all the elements of the result?\n",
    "Note: You just implemented linear regression. We'll talk about it in the next lesson.\n",
    "\n",
    "* 0.43\n",
    "* 45.29\n",
    "* 45.58\n",
    "* 91.30"
   ]
  },
  {
   "cell_type": "code",
   "execution_count": 14,
   "id": "981a12b3-649c-4343-9fa6-b9e521c903c9",
   "metadata": {},
   "outputs": [],
   "source": [
    "X = df.loc[df['Brand']=='Innjoo', ['RAM', 'Storage', 'Screen']].to_numpy()"
   ]
  },
  {
   "cell_type": "code",
   "execution_count": 15,
   "id": "f05af673-77dd-428c-a716-b1b09fdb67a1",
   "metadata": {},
   "outputs": [
    {
     "data": {
      "text/plain": [
       "array([[  8. , 256. ,  15.6],\n",
       "       [  8. , 512. ,  15.6],\n",
       "       [  4. ,  64. ,  14.1],\n",
       "       [  6. ,  64. ,  14.1],\n",
       "       [  6. , 128. ,  14.1],\n",
       "       [  6. , 128. ,  14.1]])"
      ]
     },
     "execution_count": 15,
     "metadata": {},
     "output_type": "execute_result"
    }
   ],
   "source": [
    "X"
   ]
  },
  {
   "cell_type": "markdown",
   "id": "b66c0fd0-5541-4e98-a238-e9658b0ff768",
   "metadata": {},
   "source": [
    "**NOTE**:\n",
    "* X is (6,3) matrix, X.T is (3,6) matrix. Hence X.T @ X is (3,3) matrix"
   ]
  },
  {
   "cell_type": "code",
   "execution_count": 16,
   "id": "c0bd20ff-8712-464e-a2ed-fdf0d9b0cea8",
   "metadata": {},
   "outputs": [],
   "source": [
    "inverse_XTX = np.linalg.inv(X.T @ X)"
   ]
  },
  {
   "cell_type": "code",
   "execution_count": 17,
   "id": "5555ac1e-99e8-4f8e-af2e-0790a0949670",
   "metadata": {},
   "outputs": [
    {
     "data": {
      "text/plain": [
       "(3, 3)"
      ]
     },
     "execution_count": 17,
     "metadata": {},
     "output_type": "execute_result"
    }
   ],
   "source": [
    "inverse_XTX.shape"
   ]
  },
  {
   "cell_type": "code",
   "execution_count": 18,
   "id": "1ce94063-d6b0-40b5-bae2-7122289683d8",
   "metadata": {},
   "outputs": [
    {
     "data": {
      "text/plain": [
       "(6,)"
      ]
     },
     "execution_count": 18,
     "metadata": {},
     "output_type": "execute_result"
    }
   ],
   "source": [
    "y = np.array([1100, 1300, 800, 900, 1000, 1100])\n",
    "y.shape"
   ]
  },
  {
   "cell_type": "code",
   "execution_count": 19,
   "id": "2fab4162-b226-4e06-bdad-12e75bc68f35",
   "metadata": {},
   "outputs": [
    {
     "data": {
      "text/plain": [
       "(3, 6)"
      ]
     },
     "execution_count": 19,
     "metadata": {},
     "output_type": "execute_result"
    }
   ],
   "source": [
    "(inverse_XTX @ X.T).shape"
   ]
  },
  {
   "cell_type": "code",
   "execution_count": 20,
   "id": "6a96b409-8b5c-430e-8f31-008cc3f1542d",
   "metadata": {},
   "outputs": [],
   "source": [
    "w = (inverse_XTX @ X.T) @ y"
   ]
  },
  {
   "cell_type": "code",
   "execution_count": 21,
   "id": "0faf5114-aa13-4a70-bca3-f9c5820e7631",
   "metadata": {},
   "outputs": [
    {
     "data": {
      "text/plain": [
       "(3,)"
      ]
     },
     "execution_count": 21,
     "metadata": {},
     "output_type": "execute_result"
    }
   ],
   "source": [
    "w.shape"
   ]
  },
  {
   "cell_type": "code",
   "execution_count": 22,
   "id": "e7c2c3b3-e373-4147-ac0a-6121f67821e0",
   "metadata": {},
   "outputs": [
    {
     "data": {
      "text/plain": [
       "array([45.58076606,  0.42783519, 45.29127938])"
      ]
     },
     "execution_count": 22,
     "metadata": {},
     "output_type": "execute_result"
    }
   ],
   "source": [
    "w"
   ]
  },
  {
   "cell_type": "code",
   "execution_count": 23,
   "id": "956eec09-5915-4b35-a9da-48c4efe1c959",
   "metadata": {},
   "outputs": [
    {
     "data": {
      "text/plain": [
       "91.2998806299557"
      ]
     },
     "execution_count": 23,
     "metadata": {},
     "output_type": "execute_result"
    }
   ],
   "source": [
    "w.sum()"
   ]
  },
  {
   "cell_type": "code",
   "execution_count": null,
   "id": "f3d3b065-825d-4608-8db0-bf314a9225b3",
   "metadata": {},
   "outputs": [],
   "source": []
  }
 ],
 "metadata": {
  "kernelspec": {
   "display_name": "Python 3 (ipykernel)",
   "language": "python",
   "name": "python3"
  },
  "language_info": {
   "codemirror_mode": {
    "name": "ipython",
    "version": 3
   },
   "file_extension": ".py",
   "mimetype": "text/x-python",
   "name": "python",
   "nbconvert_exporter": "python",
   "pygments_lexer": "ipython3",
   "version": "3.12.5"
  }
 },
 "nbformat": 4,
 "nbformat_minor": 5
}
