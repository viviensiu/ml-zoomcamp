{
 "cells": [
  {
   "cell_type": "code",
   "execution_count": 1,
   "id": "15f1fb98-9b54-415e-a86a-5981df7fc319",
   "metadata": {},
   "outputs": [],
   "source": [
    "import pandas as pd\n",
    "import numpy as np\n",
    "import seaborn as sns\n",
    "import matplotlib.pyplot as plt"
   ]
  },
  {
   "cell_type": "markdown",
   "id": "6c73ea95-64c0-4bfd-9650-32b73cb27d63",
   "metadata": {},
   "source": [
    "### Dataset\n",
    "In this homework, we will use the Laptops price dataset from Kaggle.\n",
    "\n",
    "Here's a wget-able link:\n",
    "\n",
    "`wget https://raw.githubusercontent.com/alexeygrigorev/datasets/master/laptops.csv`\n",
    "The goal of this homework is to create a regression model for predicting the prices (column 'Final Price').\n",
    "\n",
    "Preparing the dataset\n",
    "First, we'll normalize the names of the columns:\n",
    "\n",
    "`df.columns = df.columns.str.lower().str.replace(' ', '_')`\n",
    "Now, instead of 'Final Price', we have 'final_price'.\n",
    "\n",
    "Next, use only the following columns:\n",
    "\n",
    "'ram',\n",
    "'storage',\n",
    "'screen',\n",
    "'final_price'\n",
    "EDA\n",
    "Look at the final_price variable. Does it have a long tail?"
   ]
  },
  {
   "cell_type": "code",
   "execution_count": 2,
   "id": "bc177260-920e-4362-94b8-219cf4389215",
   "metadata": {},
   "outputs": [],
   "source": [
    "file = \"https://raw.githubusercontent.com/alexeygrigorev/datasets/master/laptops.csv\""
   ]
  },
  {
   "cell_type": "code",
   "execution_count": 3,
   "id": "c944fa8d-d30b-4970-af4f-61b81ab15896",
   "metadata": {},
   "outputs": [],
   "source": [
    "df_full = pd.read_csv(file)"
   ]
  },
  {
   "cell_type": "code",
   "execution_count": 4,
   "id": "59e8589d-4526-49bc-89d7-f1d9eb8acc7d",
   "metadata": {},
   "outputs": [],
   "source": [
    "df_full.columns = df_full.columns.str.lower().str.replace(' ', '_')"
   ]
  },
  {
   "cell_type": "code",
   "execution_count": 5,
   "id": "9fcac6c0-9699-4218-bfea-634bbbcbd150",
   "metadata": {},
   "outputs": [],
   "source": [
    "base = ['ram', 'storage', 'screen', 'final_price']"
   ]
  },
  {
   "cell_type": "code",
   "execution_count": 6,
   "id": "b930f3d6-099e-4369-95a9-eab8c1177061",
   "metadata": {},
   "outputs": [
    {
     "data": {
      "image/png": "[encoded data removed]",
      "text/plain": [
       "<Figure size 640x480 with 1 Axes>"
      ]
     },
     "metadata": {},
     "output_type": "display_data"
    }
   ],
   "source": [
    "df = df_full[base]\n",
    "sns.histplot(df['final_price'])\n",
    "plt.show()"
   ]
  },
  {
   "cell_type": "markdown",
   "id": "aa55ec8b-d4e5-4227-8eb6-ad05825c01e5",
   "metadata": {},
   "source": [
    "### Question 1\n",
    "There's one column with missing values. What is it?\n",
    "\n",
    "* 'ram'\n",
    "* 'storage'\n",
    "* 'screen'\n",
    "* 'final_price'"
   ]
  },
  {
   "cell_type": "code",
   "execution_count": 7,
   "id": "1d856be5-c922-4d12-85dc-c5074234344c",
   "metadata": {},
   "outputs": [
    {
     "data": {
      "text/plain": [
       "ram            0\n",
       "storage        0\n",
       "screen         4\n",
       "final_price    0\n",
       "dtype: int64"
      ]
     },
     "execution_count": 7,
     "metadata": {},
     "output_type": "execute_result"
    }
   ],
   "source": [
    "df.isnull().sum()"
   ]
  },
  {
   "cell_type": "markdown",
   "id": "614b3bad-6f06-404f-a640-3cc81e63ad62",
   "metadata": {},
   "source": [
    "### Question 2\n",
    "What's the median (50% percentile) for variable 'ram'?\n",
    "\n",
    "* 8\n",
    "* 16\n",
    "* 24\n",
    "* 32"
   ]
  },
  {
   "cell_type": "code",
   "execution_count": 8,
   "id": "56ef61f8-061e-46f1-a644-a8da75b62ea9",
   "metadata": {},
   "outputs": [
    {
     "data": {
      "text/plain": [
       "count    2160.000000\n",
       "mean       15.413889\n",
       "std         9.867815\n",
       "min         4.000000\n",
       "25%         8.000000\n",
       "50%        16.000000\n",
       "75%        16.000000\n",
       "max       128.000000\n",
       "Name: ram, dtype: float64"
      ]
     },
     "execution_count": 8,
     "metadata": {},
     "output_type": "execute_result"
    }
   ],
   "source": [
    "df['ram'].describe()"
   ]
  },
  {
   "cell_type": "markdown",
   "id": "feac67b7-94c1-40ea-9b7e-dca41c2f24ae",
   "metadata": {},
   "source": [
    "### Question 3\n",
    "Prepare and split the dataset\n",
    "\n",
    "Shuffle the dataset (the filtered one you created above), use seed 42.\n",
    "\n",
    "Split your data in train/val/test sets, with 60%/20%/20% distribution.\n",
    "\n",
    "Use the same code as in the lectures\n",
    "\n",
    "We need to deal with missing values for the column from Q1.\n",
    "\n",
    "We have two options: fill it with 0 or with the mean of this variable.\n",
    "\n",
    "Try both options. For each, train a linear regression model without regularization using the code from the lessons.\n",
    "\n",
    "For computing the mean, use the training only!\n",
    "\n",
    "Use the validation dataset to evaluate the models and compare the RMSE of each option.\n",
    "\n",
    "Round the RMSE scores to 2 decimal digits using round(score, 2)\n",
    "\n",
    "Which option gives better RMSE?\n",
    "Options:\n",
    "\n",
    "* With 0\n",
    "* With mean\n",
    "* Both are equally good"
   ]
  },
  {
   "cell_type": "code",
   "execution_count": 9,
   "id": "58176de4-91ce-4cdb-9373-f2df1c8a4a37",
   "metadata": {},
   "outputs": [],
   "source": [
    "def train_linear_regression(X, y):\n",
    "    ones = np.ones(X.shape[0])\n",
    "    X = np.column_stack([ones, X])\n",
    "\n",
    "    XTX = X.T.dot(X)\n",
    "    XTX_inv = np.linalg.inv(XTX)\n",
    "    w = XTX_inv.dot(X.T).dot(y)\n",
    "    \n",
    "    return w[0], w[1:]"
   ]
  },
  {
   "cell_type": "code",
   "execution_count": 10,
   "id": "f21274ee-8350-4ab5-b40b-48749372268f",
   "metadata": {},
   "outputs": [],
   "source": [
    "def prepare_X_fillzero(df):\n",
    "    df_num = df.copy()\n",
    "    df_num = df_num.fillna(0)\n",
    "    X = df_num.values\n",
    "    return X"
   ]
  },
  {
   "cell_type": "code",
   "execution_count": 11,
   "id": "5ba0dfe9-f862-4564-908d-9a60dd1f6e8f",
   "metadata": {},
   "outputs": [],
   "source": [
    "def prepare_X_fillmean(df, col, col_mean):\n",
    "    df_num = df.copy()\n",
    "    df_num[col] = df_num[col].fillna(col_mean)\n",
    "    X = df_num.values\n",
    "    return X"
   ]
  },
  {
   "cell_type": "code",
   "execution_count": 12,
   "id": "d8eaefe6-12fe-420b-9348-54478c6508f7",
   "metadata": {},
   "outputs": [],
   "source": [
    "def rmse(y, y_pred):\n",
    "    error = y_pred - y\n",
    "    mse = (error ** 2).mean()\n",
    "    return round(np.sqrt(mse),2)"
   ]
  },
  {
   "cell_type": "code",
   "execution_count": 13,
   "id": "a62dad69-8f99-4813-87bb-773b260a38ef",
   "metadata": {},
   "outputs": [],
   "source": [
    "def train_test_split(df, seed):\n",
    "    np.random.seed(seed)\n",
    "    \n",
    "    n = len(df)\n",
    "    \n",
    "    n_val = int(0.2 * n)\n",
    "    n_test = int(0.2 * n)\n",
    "    n_train = n - (n_val + n_test)\n",
    "    \n",
    "    idx = np.arange(n)\n",
    "    np.random.shuffle(idx)\n",
    "    \n",
    "    df_shuffled = df.iloc[idx]\n",
    "    \n",
    "    df_train = df_shuffled.iloc[:n_train].copy()\n",
    "    df_val = df_shuffled.iloc[n_train:n_train+n_val].copy()\n",
    "    df_test = df_shuffled.iloc[n_train+n_val:].copy()\n",
    "\n",
    "    # y_train_orig = df_train.final_price.values\n",
    "    # y_val_orig = df_val.final_price.values\n",
    "    # y_test_orig = df_test.final_price.values\n",
    "    \n",
    "    # y_train = np.log1p(df_train.final_price.values)\n",
    "    # y_val = np.log1p(df_val.final_price.values)\n",
    "    # y_test = np.log1p(df_test.final_price.values)\n",
    "\n",
    "    y_train = df_train.final_price.values\n",
    "    y_val = df_val.final_price.values\n",
    "    y_test = df_test.final_price.values\n",
    "    \n",
    "    del df_train['final_price']\n",
    "    del df_val['final_price']\n",
    "    del df_test['final_price']\n",
    "\n",
    "    return df_train, y_train, df_val, y_val, df_test, y_test"
   ]
  },
  {
   "cell_type": "code",
   "execution_count": 14,
   "id": "24298ef8-0618-440d-be73-dfdb5043a1a0",
   "metadata": {},
   "outputs": [],
   "source": [
    "df_train, y_train, df_val, y_val, _, _ = train_test_split(df, 42)"
   ]
  },
  {
   "cell_type": "code",
   "execution_count": 15,
   "id": "c38e23fb-5855-4ee2-b626-29646a20e3e7",
   "metadata": {},
   "outputs": [
    {
     "name": "stdout",
     "output_type": "stream",
     "text": [
      "RMSE for filling with zero: 597.36\n"
     ]
    }
   ],
   "source": [
    "## Fill missing value with zero\n",
    "X_train = prepare_X_fillzero(df_train)\n",
    "w_0, w = train_linear_regression(X_train, y_train)\n",
    "\n",
    "X_val = prepare_X_fillzero(df_val)\n",
    "y_pred = w_0 + X_val@w\n",
    "\n",
    "rmse_zero = rmse(y_val, y_pred)\n",
    "print(f\"RMSE for filling with zero: {rmse_zero}\")"
   ]
  },
  {
   "cell_type": "code",
   "execution_count": 16,
   "id": "3f63297d-81bb-40cb-ab5d-1f1d8da07676",
   "metadata": {},
   "outputs": [
    {
     "name": "stdout",
     "output_type": "stream",
     "text": [
      "RMSE for filling with mean: 600.27\n"
     ]
    }
   ],
   "source": [
    "## Fill missing value with mean\n",
    "col = 'screen'\n",
    "X_train = prepare_X_fillmean(df_train, col, df_train[col].mean())\n",
    "w_0, w = train_linear_regression(X_train, y_train)\n",
    "\n",
    "X_val = prepare_X_fillmean(df_val, col, df_train[col].mean())\n",
    "y_pred = w_0 + X_val@w\n",
    "\n",
    "rmse_mean = rmse(y_val, y_pred)\n",
    "print(f\"RMSE for filling with mean: {rmse_mean}\")"
   ]
  },
  {
   "cell_type": "markdown",
   "id": "272621d2-de42-4944-a965-1b1cf4d07b77",
   "metadata": {},
   "source": [
    "### Question 4\n",
    "Now let's train a regularized linear regression.\n",
    "\n",
    "For this question, fill the NAs with 0.\n",
    "\n",
    "Try different values of r from this list: [0, 0.01, 0.1, 1, 5, 10, 100].\n",
    "\n",
    "Use RMSE to evaluate the model on the validation dataset.\n",
    "\n",
    "Round the RMSE scores to 2 decimal digits.\n",
    "\n",
    "Which r gives the best RMSE?\n",
    "If there are multiple options, select the smallest r.\n",
    "\n",
    "Options:\n",
    "\n",
    "* 0\n",
    "* 0.01\n",
    "* 1\n",
    "* 10\n",
    "* 100"
   ]
  },
  {
   "cell_type": "code",
   "execution_count": 17,
   "id": "01de8d51-4eb2-46c5-be66-741ba68396db",
   "metadata": {},
   "outputs": [],
   "source": [
    "def train_linear_regression_reg(X, y, r=0.0):\n",
    "    ones = np.ones(X.shape[0])\n",
    "    X = np.column_stack([ones, X])\n",
    "\n",
    "    XTX = X.T.dot(X)\n",
    "    reg = r * np.eye(XTX.shape[0])\n",
    "    XTX = XTX + reg\n",
    "\n",
    "    XTX_inv = np.linalg.inv(XTX)\n",
    "    w = XTX_inv.dot(X.T).dot(y)\n",
    "    \n",
    "    return w[0], w[1:]"
   ]
  },
  {
   "cell_type": "code",
   "execution_count": 18,
   "id": "53bd40ac-3fd5-4a89-9f97-43eeb15a4b86",
   "metadata": {},
   "outputs": [
    {
     "name": "stdout",
     "output_type": "stream",
     "text": [
      "RMSE for r=0:\t 597.36\n",
      "RMSE for r=0.01:\t 597.36\n",
      "RMSE for r=0.1:\t 597.35\n",
      "RMSE for r=1:\t 597.21\n",
      "RMSE for r=5:\t 597.01\n",
      "RMSE for r=10:\t 597.06\n",
      "RMSE for r=100:\t 597.9\n"
     ]
    }
   ],
   "source": [
    "## Fill missing value with zero\n",
    "X_train = prepare_X_fillzero(df_train)\n",
    "X_val = prepare_X_fillzero(df_val)\n",
    "\n",
    "for r in [0, 0.01, 0.1, 1, 5, 10, 100]:\n",
    "    w_0, w = train_linear_regression_reg(X_train, y_train, r)\n",
    "    y_pred = w_0 + X_val@w\n",
    "\n",
    "    print(f\"RMSE for r={r}:\\t {rmse(y_val, y_pred)}\")"
   ]
  },
  {
   "cell_type": "markdown",
   "id": "2c047deb-fe05-464f-a4d7-038471c14e6a",
   "metadata": {},
   "source": [
    "### Question 5\n",
    "We used seed 42 for splitting the data. Let's find out how selecting the seed influences our score.\n",
    "\n",
    "Try different seed values: [0, 1, 2, 3, 4, 5, 6, 7, 8, 9].\n",
    "\n",
    "For each seed, do the train/validation/test split with 60%/20%/20% distribution.\n",
    "\n",
    "Fill the missing values with 0 and train a model without regularization.\n",
    "\n",
    "For each seed, evaluate the model on the validation dataset and collect the RMSE scores.\n",
    "\n",
    "What's the standard deviation of all the scores? To compute the standard deviation, use np.std.\n",
    "Round the result to 3 decimal digits (round(std, 3))\n",
    "What's the value of std?\n",
    "\n",
    "* 19.176\n",
    "* 29.176\n",
    "* 39.176\n",
    "* 49.176\n",
    "\n",
    "Note: Standard deviation shows how different the values are. If it's low, then all values are approximately the same. If it's high, the values are different. If standard deviation of scores is low, then our model is stable.\n"
   ]
  },
  {
   "cell_type": "code",
   "execution_count": 19,
   "id": "23ad6140-a52e-4489-ae90-08b8f1aceaea",
   "metadata": {},
   "outputs": [],
   "source": [
    "def question_5(df, seed):\n",
    "    df_train, y_train, df_val, y_val, _, _ = train_test_split(df, seed)\n",
    "    X_train = prepare_X_fillzero(df_train)\n",
    "    w_0, w = train_linear_regression(X_train, y_train)\n",
    "    \n",
    "    X_val = prepare_X_fillzero(df_val)\n",
    "    y_pred = w_0 + X_val@w  \n",
    "    return rmse(y_val, y_pred)"
   ]
  },
  {
   "cell_type": "code",
   "execution_count": 20,
   "id": "de270040-7d10-4a49-b463-d8e18b42dd24",
   "metadata": {},
   "outputs": [],
   "source": [
    "seeds = [0, 1, 2, 3, 4, 5, 6, 7, 8, 9]\n",
    "rmse_list = [question_5(df, seed) for seed in seeds]"
   ]
  },
  {
   "cell_type": "code",
   "execution_count": 21,
   "id": "5f421902-d427-4f94-bad7-4e0590904d70",
   "metadata": {},
   "outputs": [
    {
     "name": "stdout",
     "output_type": "stream",
     "text": [
      "[565.45, 636.8, 588.96, 597.81, 571.96, 573.24, 647.34, 550.44, 587.33, 576.1]\n"
     ]
    }
   ],
   "source": [
    "print(rmse_list)"
   ]
  },
  {
   "cell_type": "code",
   "execution_count": 22,
   "id": "e9dc13c0-1ab2-45b2-a22b-e8f37408ef7c",
   "metadata": {},
   "outputs": [
    {
     "data": {
      "text/plain": [
       "29.176"
      ]
     },
     "execution_count": 22,
     "metadata": {},
     "output_type": "execute_result"
    }
   ],
   "source": [
    "round(np.std(rmse_list), 3)"
   ]
  },
  {
   "cell_type": "markdown",
   "id": "cb4c883b-d4ec-42dc-9272-c531f0837389",
   "metadata": {},
   "source": [
    "### Question 6\n",
    "Split the dataset like previously, use seed 9.\n",
    "\n",
    "Combine train and validation datasets.\n",
    "\n",
    "Fill the missing values with 0 and train a model with r=0.001.\n",
    "\n",
    "What's the RMSE on the test dataset?\n",
    "Options:\n",
    "\n",
    "* 598.60\n",
    "* 608.60\n",
    "* 618.60\n",
    "* 628.60"
   ]
  },
  {
   "cell_type": "code",
   "execution_count": 24,
   "id": "39266c3f-3228-45d0-9133-557e2c6b8a30",
   "metadata": {},
   "outputs": [
    {
     "name": "stdout",
     "output_type": "stream",
     "text": [
      "608.61\n"
     ]
    }
   ],
   "source": [
    "df_train, y_train, df_val, y_val, df_test, y_test = train_test_split(df, 9)\n",
    "X_train = prepare_X_fillzero(df_train)\n",
    "X_val = prepare_X_fillzero(df_val)\n",
    "X_test = prepare_X_fillzero(df_test)\n",
    "\n",
    "X_combine = np.concatenate((X_train, X_val), axis=0) #pd.concat([X_train, X_val])\n",
    "y_combine = np.concatenate((y_train, y_val), axis=0)\n",
    "w_0, w = train_linear_regression_reg(X_combine, y_combine, 0.001)\n",
    "\n",
    "y_pred = w_0 + X_test@w  \n",
    "print(rmse(y_test, y_pred))"
   ]
  }
 ],
 "metadata": {
  "kernelspec": {
   "display_name": "Python 3 (ipykernel)",
   "language": "python",
   "name": "python3"
  },
  "language_info": {
   "codemirror_mode": {
    "name": "ipython",
    "version": 3
   },
   "file_extension": ".py",
   "mimetype": "text/x-python",
   "name": "python",
   "nbconvert_exporter": "python",
   "pygments_lexer": "ipython3",
   "version": "3.12.5"
  }
 },
 "nbformat": 4,
 "nbformat_minor": 5
}
