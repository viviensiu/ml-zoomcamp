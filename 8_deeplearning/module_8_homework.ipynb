{
 "cells": [
  {
   "cell_type": "markdown",
   "id": "0f85ea4d-9780-4e84-9e75-478909d031df",
   "metadata": {},
   "source": [
    "## Dataset\n",
    "In this homework, we'll build a model for classifying various hair types. For this, we will use the Hair Type dataset that was obtained from [Kaggle](https://www.kaggle.com/datasets/kavyasreeb/hair-type-dataset) and slightly rebuilt.\n",
    "\n",
    "You can download the target dataset for this homework from [here](https://github.com/SVizor42/ML_Zoomcamp/releases/download/straight-curly-data/data.zip):\n",
    "```bash\n",
    "wget https://github.com/SVizor42/ML_Zoomcamp/releases/download/straight-curly-data/data.zip\n",
    "unzip data.zip\n",
    "```\n",
    "In the lectures we saw how to use a pre-trained neural network. In the homework, we'll train a much smaller model from scratch.\n",
    "\n",
    ">Note: you will need an environment with a GPU for this homework. We recommend to use [Saturn Cloud](https://bit.ly/saturn-mlzoomcamp). You can also use a computer without a GPU (e.g. your laptop), but it will be slower.\n",
    "\n",
    "## Data Preparation\n",
    "The dataset contains around 1000 images of hairs in the separate folders for training and test sets.\n",
    "\n",
    "## Reproducibility\n",
    "Reproducibility in deep learning is a multifaceted challenge that requires attention to both software and hardware details. In some cases, we can't guarantee exactly the same results during the same experiment runs. Therefore, in this homework we suggest to:\n",
    "\n",
    "* install tensorflow version 2.17.1\n",
    "* set the seed generators by:\n",
    "```python\n",
    "import numpy as np\n",
    "import tensorflow as tf\n",
    "\n",
    "SEED = 42\n",
    "np.random.seed(SEED)\n",
    "tf.random.set_seed(SEED)\n",
    "```"
   ]
  },
  {
   "cell_type": "code",
   "execution_count": 1,
   "id": "921a0527-25f7-4ae6-a526-2d046f637dcb",
   "metadata": {
    "execution": {
     "iopub.execute_input": "2024-12-01T12:04:48.134626Z",
     "iopub.status.busy": "2024-12-01T12:04:48.134284Z",
     "iopub.status.idle": "2024-12-01T12:04:48.138096Z",
     "shell.execute_reply": "2024-12-01T12:04:48.137341Z",
     "shell.execute_reply.started": "2024-12-01T12:04:48.134595Z"
    },
    "scrolled": true
   },
   "outputs": [],
   "source": [
    "# !wget https://github.com/SVizor42/ML_Zoomcamp/releases/download/straight-curly-data/data.zip\n",
    "# !unzip data.zip"
   ]
  },
  {
   "cell_type": "code",
   "execution_count": 2,
   "id": "8b489e46-658e-4428-9703-ca5fb63f4228",
   "metadata": {
    "execution": {
     "iopub.execute_input": "2024-12-01T12:04:48.139579Z",
     "iopub.status.busy": "2024-12-01T12:04:48.139254Z",
     "iopub.status.idle": "2024-12-01T12:04:49.691161Z",
     "shell.execute_reply": "2024-12-01T12:04:49.690492Z",
     "shell.execute_reply.started": "2024-12-01T12:04:48.139557Z"
    },
    "scrolled": true
   },
   "outputs": [
    {
     "name": "stdout",
     "output_type": "stream",
     "text": [
      "Requirement already satisfied: tensorflow==2.17.1 in /opt/saturncloud/envs/saturn/lib/python3.12/site-packages (2.17.1)\n",
      "Requirement already satisfied: absl-py>=1.0.0 in /opt/saturncloud/envs/saturn/lib/python3.12/site-packages (from tensorflow==2.17.1) (2.1.0)\n",
      "Requirement already satisfied: astunparse>=1.6.0 in /opt/saturncloud/envs/saturn/lib/python3.12/site-packages (from tensorflow==2.17.1) (1.6.3)\n",
      "Requirement already satisfied: flatbuffers>=24.3.25 in /opt/saturncloud/envs/saturn/lib/python3.12/site-packages (from tensorflow==2.17.1) (24.3.25)\n",
      "Requirement already satisfied: gast!=0.5.0,!=0.5.1,!=0.5.2,>=0.2.1 in /opt/saturncloud/envs/saturn/lib/python3.12/site-packages (from tensorflow==2.17.1) (0.6.0)\n",
      "Requirement already satisfied: google-pasta>=0.1.1 in /opt/saturncloud/envs/saturn/lib/python3.12/site-packages (from tensorflow==2.17.1) (0.2.0)\n",
      "Requirement already satisfied: h5py>=3.10.0 in /opt/saturncloud/envs/saturn/lib/python3.12/site-packages (from tensorflow==2.17.1) (3.12.1)\n",
      "Requirement already satisfied: libclang>=13.0.0 in /opt/saturncloud/envs/saturn/lib/python3.12/site-packages (from tensorflow==2.17.1) (18.1.1)\n",
      "Requirement already satisfied: ml-dtypes<0.5.0,>=0.3.1 in /opt/saturncloud/envs/saturn/lib/python3.12/site-packages (from tensorflow==2.17.1) (0.4.1)\n",
      "Requirement already satisfied: opt-einsum>=2.3.2 in /opt/saturncloud/envs/saturn/lib/python3.12/site-packages (from tensorflow==2.17.1) (3.4.0)\n",
      "Requirement already satisfied: packaging in /opt/saturncloud/envs/saturn/lib/python3.12/site-packages (from tensorflow==2.17.1) (24.1)\n",
      "Requirement already satisfied: protobuf!=4.21.0,!=4.21.1,!=4.21.2,!=4.21.3,!=4.21.4,!=4.21.5,<5.0.0dev,>=3.20.3 in /opt/saturncloud/envs/saturn/lib/python3.12/site-packages (from tensorflow==2.17.1) (4.25.5)\n",
      "Requirement already satisfied: requests<3,>=2.21.0 in /opt/saturncloud/envs/saturn/lib/python3.12/site-packages (from tensorflow==2.17.1) (2.32.3)\n",
      "Requirement already satisfied: setuptools in /opt/saturncloud/envs/saturn/lib/python3.12/site-packages (from tensorflow==2.17.1) (75.1.0)\n",
      "Requirement already satisfied: six>=1.12.0 in /opt/saturncloud/envs/saturn/lib/python3.12/site-packages (from tensorflow==2.17.1) (1.16.0)\n",
      "Requirement already satisfied: termcolor>=1.1.0 in /opt/saturncloud/envs/saturn/lib/python3.12/site-packages (from tensorflow==2.17.1) (2.5.0)\n",
      "Requirement already satisfied: typing-extensions>=3.6.6 in /opt/saturncloud/envs/saturn/lib/python3.12/site-packages (from tensorflow==2.17.1) (4.12.2)\n",
      "Requirement already satisfied: wrapt>=1.11.0 in /opt/saturncloud/envs/saturn/lib/python3.12/site-packages (from tensorflow==2.17.1) (1.16.0)\n",
      "Requirement already satisfied: grpcio<2.0,>=1.24.3 in /opt/saturncloud/envs/saturn/lib/python3.12/site-packages (from tensorflow==2.17.1) (1.65.5)\n",
      "Requirement already satisfied: tensorboard<2.18,>=2.17 in /opt/saturncloud/envs/saturn/lib/python3.12/site-packages (from tensorflow==2.17.1) (2.17.1)\n",
      "Requirement already satisfied: keras>=3.2.0 in /opt/saturncloud/envs/saturn/lib/python3.12/site-packages (from tensorflow==2.17.1) (3.6.0)\n",
      "Requirement already satisfied: numpy<2.0.0,>=1.26.0 in /opt/saturncloud/envs/saturn/lib/python3.12/site-packages (from tensorflow==2.17.1) (1.26.4)\n",
      "Requirement already satisfied: wheel<1.0,>=0.23.0 in /opt/saturncloud/envs/saturn/lib/python3.12/site-packages (from astunparse>=1.6.0->tensorflow==2.17.1) (0.44.0)\n",
      "Requirement already satisfied: rich in /opt/saturncloud/envs/saturn/lib/python3.12/site-packages (from keras>=3.2.0->tensorflow==2.17.1) (13.9.2)\n",
      "Requirement already satisfied: namex in /opt/saturncloud/envs/saturn/lib/python3.12/site-packages (from keras>=3.2.0->tensorflow==2.17.1) (0.0.8)\n",
      "Requirement already satisfied: optree in /opt/saturncloud/envs/saturn/lib/python3.12/site-packages (from keras>=3.2.0->tensorflow==2.17.1) (0.13.0)\n",
      "Requirement already satisfied: charset-normalizer<4,>=2 in /opt/saturncloud/envs/saturn/lib/python3.12/site-packages (from requests<3,>=2.21.0->tensorflow==2.17.1) (3.4.0)\n",
      "Requirement already satisfied: idna<4,>=2.5 in /opt/saturncloud/envs/saturn/lib/python3.12/site-packages (from requests<3,>=2.21.0->tensorflow==2.17.1) (3.10)\n",
      "Requirement already satisfied: urllib3<3,>=1.21.1 in /opt/saturncloud/envs/saturn/lib/python3.12/site-packages (from requests<3,>=2.21.0->tensorflow==2.17.1) (2.2.3)\n",
      "Requirement already satisfied: certifi>=2017.4.17 in /opt/saturncloud/envs/saturn/lib/python3.12/site-packages (from requests<3,>=2.21.0->tensorflow==2.17.1) (2024.8.30)\n",
      "Requirement already satisfied: markdown>=2.6.8 in /opt/saturncloud/envs/saturn/lib/python3.12/site-packages (from tensorboard<2.18,>=2.17->tensorflow==2.17.1) (3.6)\n",
      "Requirement already satisfied: tensorboard-data-server<0.8.0,>=0.7.0 in /opt/saturncloud/envs/saturn/lib/python3.12/site-packages (from tensorboard<2.18,>=2.17->tensorflow==2.17.1) (0.7.0)\n",
      "Requirement already satisfied: werkzeug>=1.0.1 in /opt/saturncloud/envs/saturn/lib/python3.12/site-packages (from tensorboard<2.18,>=2.17->tensorflow==2.17.1) (3.0.4)\n",
      "Requirement already satisfied: MarkupSafe>=2.1.1 in /opt/saturncloud/envs/saturn/lib/python3.12/site-packages (from werkzeug>=1.0.1->tensorboard<2.18,>=2.17->tensorflow==2.17.1) (3.0.1)\n",
      "Requirement already satisfied: markdown-it-py>=2.2.0 in /opt/saturncloud/envs/saturn/lib/python3.12/site-packages (from rich->keras>=3.2.0->tensorflow==2.17.1) (3.0.0)\n",
      "Requirement already satisfied: pygments<3.0.0,>=2.13.0 in /opt/saturncloud/envs/saturn/lib/python3.12/site-packages (from rich->keras>=3.2.0->tensorflow==2.17.1) (2.18.0)\n",
      "Requirement already satisfied: mdurl~=0.1 in /opt/saturncloud/envs/saturn/lib/python3.12/site-packages (from markdown-it-py>=2.2.0->rich->keras>=3.2.0->tensorflow==2.17.1) (0.1.2)\n"
     ]
    }
   ],
   "source": [
    "!pip install tensorflow==2.17.1"
   ]
  },
  {
   "cell_type": "code",
   "execution_count": 3,
   "id": "171311bf-e426-4866-90b1-67a34666cb04",
   "metadata": {
    "execution": {
     "iopub.execute_input": "2024-12-01T12:04:49.692987Z",
     "iopub.status.busy": "2024-12-01T12:04:49.692680Z",
     "iopub.status.idle": "2024-12-01T12:04:51.878846Z",
     "shell.execute_reply": "2024-12-01T12:04:51.878311Z",
     "shell.execute_reply.started": "2024-12-01T12:04:49.692961Z"
    }
   },
   "outputs": [
    {
     "name": "stderr",
     "output_type": "stream",
     "text": [
      "2024-12-01 12:04:50.005371: I tensorflow/core/util/port.cc:153] oneDNN custom operations are on. You may see slightly different numerical results due to floating-point round-off errors from different computation orders. To turn them off, set the environment variable `TF_ENABLE_ONEDNN_OPTS=0`.\n",
      "2024-12-01 12:04:50.023252: E external/local_xla/xla/stream_executor/cuda/cuda_fft.cc:485] Unable to register cuFFT factory: Attempting to register factory for plugin cuFFT when one has already been registered\n",
      "2024-12-01 12:04:50.042923: E external/local_xla/xla/stream_executor/cuda/cuda_dnn.cc:8454] Unable to register cuDNN factory: Attempting to register factory for plugin cuDNN when one has already been registered\n",
      "2024-12-01 12:04:50.048818: E external/local_xla/xla/stream_executor/cuda/cuda_blas.cc:1452] Unable to register cuBLAS factory: Attempting to register factory for plugin cuBLAS when one has already been registered\n",
      "2024-12-01 12:04:50.062752: I tensorflow/core/platform/cpu_feature_guard.cc:210] This TensorFlow binary is optimized to use available CPU instructions in performance-critical operations.\n",
      "To enable the following instructions: AVX2 AVX512F AVX512_VNNI FMA, in other operations, rebuild TensorFlow with the appropriate compiler flags.\n",
      "2024-12-01 12:04:50.862999: W tensorflow/compiler/tf2tensorrt/utils/py_utils.cc:38] TF-TRT Warning: Could not find TensorRT\n"
     ]
    }
   ],
   "source": [
    "import numpy as np\n",
    "import tensorflow as tf\n",
    "from tensorflow.keras.preprocessing.image import ImageDataGenerator"
   ]
  },
  {
   "cell_type": "code",
   "execution_count": 4,
   "id": "b95319fc-5a6e-4fa7-accb-77dfef8efd2b",
   "metadata": {
    "execution": {
     "iopub.execute_input": "2024-12-01T12:04:51.880368Z",
     "iopub.status.busy": "2024-12-01T12:04:51.879627Z",
     "iopub.status.idle": "2024-12-01T12:04:51.885903Z",
     "shell.execute_reply": "2024-12-01T12:04:51.885393Z",
     "shell.execute_reply.started": "2024-12-01T12:04:51.880335Z"
    }
   },
   "outputs": [
    {
     "data": {
      "text/plain": [
       "'2.17.1'"
      ]
     },
     "execution_count": 4,
     "metadata": {},
     "output_type": "execute_result"
    }
   ],
   "source": [
    "tf.__version__"
   ]
  },
  {
   "cell_type": "code",
   "execution_count": 5,
   "id": "8254f7a9-a94f-4197-ad08-45bc081f157e",
   "metadata": {
    "execution": {
     "iopub.execute_input": "2024-12-01T12:04:51.887535Z",
     "iopub.status.busy": "2024-12-01T12:04:51.887264Z",
     "iopub.status.idle": "2024-12-01T12:04:51.891356Z",
     "shell.execute_reply": "2024-12-01T12:04:51.890914Z",
     "shell.execute_reply.started": "2024-12-01T12:04:51.887516Z"
    }
   },
   "outputs": [],
   "source": [
    "SEED = 42\n",
    "np.random.seed(SEED)\n",
    "tf.random.set_seed(SEED)\n",
    "\n",
    "train_dir = './data/train'\n",
    "test_dir = './data/test'"
   ]
  },
  {
   "cell_type": "markdown",
   "id": "7f151208-201b-4d48-8b98-e6a818084cb5",
   "metadata": {},
   "source": [
    "## Model\n",
    "For this homework we will use Convolutional Neural Network (CNN). Like in the lectures, we'll use Keras.\n",
    "\n",
    "You need to develop the model with following structure:\n",
    "\n",
    "* The shape for input should be `(200, 200, 3)`.\n",
    "* Next, create a convolutional layer ([Conv2D](https://keras.io/api/layers/convolution_layers/convolution2d/)):\n",
    "    * Use 32 filters.\n",
    "    * Kernel size should be `(3, 3)` (that's the size of the filter).\n",
    "    * Use `'relu'` as activation.\n",
    "* Reduce the size of the feature map with max pooling ([MaxPooling2D](https://keras.io/api/layers/pooling_layers/max_pooling2d/)).\n",
    "* Set the pooling size to `(2, 2)`.\n",
    "* Turn the multi-dimensional result into vectors using a [Flatten](https://keras.io/api/layers/reshaping_layers/flatten/) layer\n",
    "* Next, add a [Dense](https://keras.io/api/layers/core_layers/dense/) layer with 64 neurons and `'relu'` activation.\n",
    "* Finally, create the `Dense` layer with 1 neuron - this will be the output.\n",
    "    * The output layer should have an activation - use the appropriate activation for the binary classification case\n",
    "As optimizer use [SGD](https://keras.io/api/optimizers/sgd/) with the following parameters:\n",
    "    * `SGD(lr=0.002, momentum=0.8)`\n",
    "For clarification about kernel size and max pooling, check [Office Hours](https://www.youtube.com/watch?v=1WRgdBTUaAc)."
   ]
  },
  {
   "cell_type": "code",
   "execution_count": 6,
   "id": "9c022de0-a7e2-40bb-852d-7ff0339dce9c",
   "metadata": {
    "execution": {
     "iopub.execute_input": "2024-12-01T12:04:51.892424Z",
     "iopub.status.busy": "2024-12-01T12:04:51.892049Z",
     "iopub.status.idle": "2024-12-01T12:04:53.098154Z",
     "shell.execute_reply": "2024-12-01T12:04:53.097641Z",
     "shell.execute_reply.started": "2024-12-01T12:04:51.892404Z"
    }
   },
   "outputs": [
    {
     "name": "stderr",
     "output_type": "stream",
     "text": [
      "WARNING: All log messages before absl::InitializeLog() is called are written to STDERR\n",
      "I0000 00:00:1733054691.947270    4609 cuda_executor.cc:1015] successful NUMA node read from SysFS had negative value (-1), but there must be at least one NUMA node, so returning NUMA node zero. See more at https://github.com/torvalds/linux/blob/v6.0/Documentation/ABI/testing/sysfs-bus-pci#L344-L355\n",
      "I0000 00:00:1733054691.994642    4609 cuda_executor.cc:1015] successful NUMA node read from SysFS had negative value (-1), but there must be at least one NUMA node, so returning NUMA node zero. See more at https://github.com/torvalds/linux/blob/v6.0/Documentation/ABI/testing/sysfs-bus-pci#L344-L355\n",
      "I0000 00:00:1733054691.994985    4609 cuda_executor.cc:1015] successful NUMA node read from SysFS had negative value (-1), but there must be at least one NUMA node, so returning NUMA node zero. See more at https://github.com/torvalds/linux/blob/v6.0/Documentation/ABI/testing/sysfs-bus-pci#L344-L355\n",
      "I0000 00:00:1733054691.996458    4609 cuda_executor.cc:1015] successful NUMA node read from SysFS had negative value (-1), but there must be at least one NUMA node, so returning NUMA node zero. See more at https://github.com/torvalds/linux/blob/v6.0/Documentation/ABI/testing/sysfs-bus-pci#L344-L355\n",
      "I0000 00:00:1733054691.996759    4609 cuda_executor.cc:1015] successful NUMA node read from SysFS had negative value (-1), but there must be at least one NUMA node, so returning NUMA node zero. See more at https://github.com/torvalds/linux/blob/v6.0/Documentation/ABI/testing/sysfs-bus-pci#L344-L355\n",
      "I0000 00:00:1733054691.996987    4609 cuda_executor.cc:1015] successful NUMA node read from SysFS had negative value (-1), but there must be at least one NUMA node, so returning NUMA node zero. See more at https://github.com/torvalds/linux/blob/v6.0/Documentation/ABI/testing/sysfs-bus-pci#L344-L355\n",
      "I0000 00:00:1733054692.087801    4609 cuda_executor.cc:1015] successful NUMA node read from SysFS had negative value (-1), but there must be at least one NUMA node, so returning NUMA node zero. See more at https://github.com/torvalds/linux/blob/v6.0/Documentation/ABI/testing/sysfs-bus-pci#L344-L355\n",
      "I0000 00:00:1733054692.088011    4609 cuda_executor.cc:1015] successful NUMA node read from SysFS had negative value (-1), but there must be at least one NUMA node, so returning NUMA node zero. See more at https://github.com/torvalds/linux/blob/v6.0/Documentation/ABI/testing/sysfs-bus-pci#L344-L355\n",
      "I0000 00:00:1733054692.088160    4609 cuda_executor.cc:1015] successful NUMA node read from SysFS had negative value (-1), but there must be at least one NUMA node, so returning NUMA node zero. See more at https://github.com/torvalds/linux/blob/v6.0/Documentation/ABI/testing/sysfs-bus-pci#L344-L355\n",
      "2024-12-01 12:04:52.088274: I tensorflow/core/common_runtime/gpu/gpu_device.cc:2021] Created device /job:localhost/replica:0/task:0/device:GPU:0 with 13942 MB memory:  -> device: 0, name: Tesla T4, pci bus id: 0000:00:1e.0, compute capability: 7.5\n"
     ]
    }
   ],
   "source": [
    "inputs = tf.keras.Input(shape=(200,200,3))\n",
    "Conv2d = tf.keras.layers.Conv2D(filters=32, \n",
    "                                kernel_size=(3,3),\n",
    "                                activation='relu')(inputs)\n",
    "pooling = tf.keras.layers.MaxPooling2D(pool_size=(2,2))(Conv2d)\n",
    "flatten = tf.keras.layers.Flatten()(pooling)\n",
    "dense = tf.keras.layers.Dense(64, activation='relu')(flatten)\n",
    "outputs = tf.keras.layers.Dense(1, activation='sigmoid')(dense)\n",
    "model = tf.keras.Model(inputs=inputs, outputs=outputs)"
   ]
  },
  {
   "cell_type": "code",
   "execution_count": 7,
   "id": "fde9029f-d131-4fc0-b9cc-745d5d06c9f4",
   "metadata": {
    "execution": {
     "iopub.execute_input": "2024-12-01T12:04:53.099561Z",
     "iopub.status.busy": "2024-12-01T12:04:53.099014Z",
     "iopub.status.idle": "2024-12-01T12:04:53.109583Z",
     "shell.execute_reply": "2024-12-01T12:04:53.109030Z",
     "shell.execute_reply.started": "2024-12-01T12:04:53.099523Z"
    }
   },
   "outputs": [],
   "source": [
    "lr = 0.002\n",
    "momentum = 0.8\n",
    "optimizer = tf.keras.optimizers.SGD(learning_rate=lr, momentum=momentum)\n",
    "\n",
    "loss = tf.keras.losses.BinaryCrossentropy(from_logits=False)\n",
    "\n",
    "model.compile(optimizer=optimizer, loss=loss, metrics=['accuracy'])"
   ]
  },
  {
   "cell_type": "markdown",
   "id": "44b5fab9-9820-4c22-9ad2-9bca503a4673",
   "metadata": {},
   "source": [
    "## Question 1\n",
    "Since we have a binary classification problem, what is the best loss function for us?\n",
    "\n",
    "* `mean squared error`\n",
    "* `binary crossentropy`\n",
    "* `categorical crossentropy`\n",
    "* `cosine similarity`\n",
    "\n",
    "Note: since we specify an activation for the output layer, we don't need to set `from_logits=True`"
   ]
  },
  {
   "cell_type": "markdown",
   "id": "71209038-569f-4499-84f4-4a63edf0765a",
   "metadata": {},
   "source": [
    "**Answer**: binary crossentropy"
   ]
  },
  {
   "cell_type": "markdown",
   "id": "a7fb5bb9-1631-407e-bdd7-6125329b125f",
   "metadata": {},
   "source": [
    "## Question 2\n",
    "What's the total number of parameters of the model? You can use the `summary` method for that.\n",
    "\n",
    "* 896\n",
    "* 11214912\n",
    "* 15896912\n",
    "* 20072512"
   ]
  },
  {
   "cell_type": "code",
   "execution_count": 8,
   "id": "6401564f-5518-4c9e-a7b9-858a938a06bb",
   "metadata": {
    "execution": {
     "iopub.execute_input": "2024-12-01T12:04:53.110432Z",
     "iopub.status.busy": "2024-12-01T12:04:53.110172Z",
     "iopub.status.idle": "2024-12-01T12:04:53.124119Z",
     "shell.execute_reply": "2024-12-01T12:04:53.123615Z",
     "shell.execute_reply.started": "2024-12-01T12:04:53.110413Z"
    }
   },
   "outputs": [
    {
     "data": {
      "text/html": [
       "<pre style=\"white-space:pre;overflow-x:auto;line-height:normal;font-family:Menlo,'DejaVu Sans Mono',consolas,'Courier New',monospace\"><span style=\"font-weight: bold\">Model: \"functional\"</span>\n",
       "</pre>\n"
      ],
      "text/plain": [
       "\u001b[1mModel: \"functional\"\u001b[0m\n"
      ]
     },
     "metadata": {},
     "output_type": "display_data"
    },
    {
     "data": {
      "text/html": [
       "<pre style=\"white-space:pre;overflow-x:auto;line-height:normal;font-family:Menlo,'DejaVu Sans Mono',consolas,'Courier New',monospace\">┏━━━━━━━━━━━━━━━━━━━━━━━━━━━━━━━━━┳━━━━━━━━━━━━━━━━━━━━━━━━┳━━━━━━━━━━━━━━━┓\n",
       "┃<span style=\"font-weight: bold\"> Layer (type)                    </span>┃<span style=\"font-weight: bold\"> Output Shape           </span>┃<span style=\"font-weight: bold\">       Param # </span>┃\n",
       "┡━━━━━━━━━━━━━━━━━━━━━━━━━━━━━━━━━╇━━━━━━━━━━━━━━━━━━━━━━━━╇━━━━━━━━━━━━━━━┩\n",
       "│ input_layer (<span style=\"color: #0087ff; text-decoration-color: #0087ff\">InputLayer</span>)        │ (<span style=\"color: #00d7ff; text-decoration-color: #00d7ff\">None</span>, <span style=\"color: #00af00; text-decoration-color: #00af00\">200</span>, <span style=\"color: #00af00; text-decoration-color: #00af00\">200</span>, <span style=\"color: #00af00; text-decoration-color: #00af00\">3</span>)    │             <span style=\"color: #00af00; text-decoration-color: #00af00\">0</span> │\n",
       "├─────────────────────────────────┼────────────────────────┼───────────────┤\n",
       "│ conv2d (<span style=\"color: #0087ff; text-decoration-color: #0087ff\">Conv2D</span>)                 │ (<span style=\"color: #00d7ff; text-decoration-color: #00d7ff\">None</span>, <span style=\"color: #00af00; text-decoration-color: #00af00\">198</span>, <span style=\"color: #00af00; text-decoration-color: #00af00\">198</span>, <span style=\"color: #00af00; text-decoration-color: #00af00\">32</span>)   │           <span style=\"color: #00af00; text-decoration-color: #00af00\">896</span> │\n",
       "├─────────────────────────────────┼────────────────────────┼───────────────┤\n",
       "│ max_pooling2d (<span style=\"color: #0087ff; text-decoration-color: #0087ff\">MaxPooling2D</span>)    │ (<span style=\"color: #00d7ff; text-decoration-color: #00d7ff\">None</span>, <span style=\"color: #00af00; text-decoration-color: #00af00\">99</span>, <span style=\"color: #00af00; text-decoration-color: #00af00\">99</span>, <span style=\"color: #00af00; text-decoration-color: #00af00\">32</span>)     │             <span style=\"color: #00af00; text-decoration-color: #00af00\">0</span> │\n",
       "├─────────────────────────────────┼────────────────────────┼───────────────┤\n",
       "│ flatten (<span style=\"color: #0087ff; text-decoration-color: #0087ff\">Flatten</span>)               │ (<span style=\"color: #00d7ff; text-decoration-color: #00d7ff\">None</span>, <span style=\"color: #00af00; text-decoration-color: #00af00\">313632</span>)         │             <span style=\"color: #00af00; text-decoration-color: #00af00\">0</span> │\n",
       "├─────────────────────────────────┼────────────────────────┼───────────────┤\n",
       "│ dense (<span style=\"color: #0087ff; text-decoration-color: #0087ff\">Dense</span>)                   │ (<span style=\"color: #00d7ff; text-decoration-color: #00d7ff\">None</span>, <span style=\"color: #00af00; text-decoration-color: #00af00\">64</span>)             │    <span style=\"color: #00af00; text-decoration-color: #00af00\">20,072,512</span> │\n",
       "├─────────────────────────────────┼────────────────────────┼───────────────┤\n",
       "│ dense_1 (<span style=\"color: #0087ff; text-decoration-color: #0087ff\">Dense</span>)                 │ (<span style=\"color: #00d7ff; text-decoration-color: #00d7ff\">None</span>, <span style=\"color: #00af00; text-decoration-color: #00af00\">1</span>)              │            <span style=\"color: #00af00; text-decoration-color: #00af00\">65</span> │\n",
       "└─────────────────────────────────┴────────────────────────┴───────────────┘\n",
       "</pre>\n"
      ],
      "text/plain": [
       "┏━━━━━━━━━━━━━━━━━━━━━━━━━━━━━━━━━┳━━━━━━━━━━━━━━━━━━━━━━━━┳━━━━━━━━━━━━━━━┓\n",
       "┃\u001b[1m \u001b[0m\u001b[1mLayer (type)                   \u001b[0m\u001b[1m \u001b[0m┃\u001b[1m \u001b[0m\u001b[1mOutput Shape          \u001b[0m\u001b[1m \u001b[0m┃\u001b[1m \u001b[0m\u001b[1m      Param #\u001b[0m\u001b[1m \u001b[0m┃\n",
       "┡━━━━━━━━━━━━━━━━━━━━━━━━━━━━━━━━━╇━━━━━━━━━━━━━━━━━━━━━━━━╇━━━━━━━━━━━━━━━┩\n",
       "│ input_layer (\u001b[38;5;33mInputLayer\u001b[0m)        │ (\u001b[38;5;45mNone\u001b[0m, \u001b[38;5;34m200\u001b[0m, \u001b[38;5;34m200\u001b[0m, \u001b[38;5;34m3\u001b[0m)    │             \u001b[38;5;34m0\u001b[0m │\n",
       "├─────────────────────────────────┼────────────────────────┼───────────────┤\n",
       "│ conv2d (\u001b[38;5;33mConv2D\u001b[0m)                 │ (\u001b[38;5;45mNone\u001b[0m, \u001b[38;5;34m198\u001b[0m, \u001b[38;5;34m198\u001b[0m, \u001b[38;5;34m32\u001b[0m)   │           \u001b[38;5;34m896\u001b[0m │\n",
       "├─────────────────────────────────┼────────────────────────┼───────────────┤\n",
       "│ max_pooling2d (\u001b[38;5;33mMaxPooling2D\u001b[0m)    │ (\u001b[38;5;45mNone\u001b[0m, \u001b[38;5;34m99\u001b[0m, \u001b[38;5;34m99\u001b[0m, \u001b[38;5;34m32\u001b[0m)     │             \u001b[38;5;34m0\u001b[0m │\n",
       "├─────────────────────────────────┼────────────────────────┼───────────────┤\n",
       "│ flatten (\u001b[38;5;33mFlatten\u001b[0m)               │ (\u001b[38;5;45mNone\u001b[0m, \u001b[38;5;34m313632\u001b[0m)         │             \u001b[38;5;34m0\u001b[0m │\n",
       "├─────────────────────────────────┼────────────────────────┼───────────────┤\n",
       "│ dense (\u001b[38;5;33mDense\u001b[0m)                   │ (\u001b[38;5;45mNone\u001b[0m, \u001b[38;5;34m64\u001b[0m)             │    \u001b[38;5;34m20,072,512\u001b[0m │\n",
       "├─────────────────────────────────┼────────────────────────┼───────────────┤\n",
       "│ dense_1 (\u001b[38;5;33mDense\u001b[0m)                 │ (\u001b[38;5;45mNone\u001b[0m, \u001b[38;5;34m1\u001b[0m)              │            \u001b[38;5;34m65\u001b[0m │\n",
       "└─────────────────────────────────┴────────────────────────┴───────────────┘\n"
      ]
     },
     "metadata": {},
     "output_type": "display_data"
    },
    {
     "data": {
      "text/html": [
       "<pre style=\"white-space:pre;overflow-x:auto;line-height:normal;font-family:Menlo,'DejaVu Sans Mono',consolas,'Courier New',monospace\"><span style=\"font-weight: bold\"> Total params: </span><span style=\"color: #00af00; text-decoration-color: #00af00\">20,073,473</span> (76.57 MB)\n",
       "</pre>\n"
      ],
      "text/plain": [
       "\u001b[1m Total params: \u001b[0m\u001b[38;5;34m20,073,473\u001b[0m (76.57 MB)\n"
      ]
     },
     "metadata": {},
     "output_type": "display_data"
    },
    {
     "data": {
      "text/html": [
       "<pre style=\"white-space:pre;overflow-x:auto;line-height:normal;font-family:Menlo,'DejaVu Sans Mono',consolas,'Courier New',monospace\"><span style=\"font-weight: bold\"> Trainable params: </span><span style=\"color: #00af00; text-decoration-color: #00af00\">20,073,473</span> (76.57 MB)\n",
       "</pre>\n"
      ],
      "text/plain": [
       "\u001b[1m Trainable params: \u001b[0m\u001b[38;5;34m20,073,473\u001b[0m (76.57 MB)\n"
      ]
     },
     "metadata": {},
     "output_type": "display_data"
    },
    {
     "data": {
      "text/html": [
       "<pre style=\"white-space:pre;overflow-x:auto;line-height:normal;font-family:Menlo,'DejaVu Sans Mono',consolas,'Courier New',monospace\"><span style=\"font-weight: bold\"> Non-trainable params: </span><span style=\"color: #00af00; text-decoration-color: #00af00\">0</span> (0.00 B)\n",
       "</pre>\n"
      ],
      "text/plain": [
       "\u001b[1m Non-trainable params: \u001b[0m\u001b[38;5;34m0\u001b[0m (0.00 B)\n"
      ]
     },
     "metadata": {},
     "output_type": "display_data"
    }
   ],
   "source": [
    "model.summary()"
   ]
  },
  {
   "cell_type": "markdown",
   "id": "4987d21d-de69-4e77-9ed9-9c1cdab9854c",
   "metadata": {},
   "source": [
    "## Generators and Training\n",
    "For the next two questions, use the following data generator for both train and test sets:\n",
    "\n",
    "[`ImageDataGenerator(rescale=1./255)`](https://www.tensorflow.org/api_docs/python/tf/keras/preprocessing/image/ImageDataGenerator)\n",
    "* We don't need to do any additional pre-processing for the images.\n",
    "* When reading the data from train/test directories, check the `class_mode` parameter. Which value should it be for a binary classification problem?\n",
    "* Use `batch_size=20`\n",
    "* Use `shuffle=True` for both training and test sets.\n",
    "\n",
    "For training use [.fit()](https://keras.io/api/models/model_training_apis/#fit-method) with the following params:\n",
    "```python\n",
    "model.fit(\n",
    "    train_generator,\n",
    "    epochs=10,\n",
    "    validation_data=test_generator\n",
    ")\n",
    "```"
   ]
  },
  {
   "cell_type": "code",
   "execution_count": 9,
   "id": "ea222862-63b1-4f87-b76f-336d91090792",
   "metadata": {
    "execution": {
     "iopub.execute_input": "2024-12-01T12:04:53.124986Z",
     "iopub.status.busy": "2024-12-01T12:04:53.124715Z",
     "iopub.status.idle": "2024-12-01T12:04:53.150255Z",
     "shell.execute_reply": "2024-12-01T12:04:53.149840Z",
     "shell.execute_reply.started": "2024-12-01T12:04:53.124966Z"
    }
   },
   "outputs": [
    {
     "name": "stdout",
     "output_type": "stream",
     "text": [
      "Found 800 images belonging to 2 classes.\n"
     ]
    }
   ],
   "source": [
    "train_generator = ImageDataGenerator(rescale=1./255).flow_from_directory(train_dir,\n",
    "                                                                    class_mode='binary',\n",
    "                                                                    target_size=(200,200),\n",
    "                                                                    batch_size=20,\n",
    "                                                                    shuffle=True\n",
    "                                                                    )"
   ]
  },
  {
   "cell_type": "code",
   "execution_count": 10,
   "id": "2d1d5c18-5728-4bc5-9cdc-aa8b888260f4",
   "metadata": {
    "execution": {
     "iopub.execute_input": "2024-12-01T12:04:53.151070Z",
     "iopub.status.busy": "2024-12-01T12:04:53.150794Z",
     "iopub.status.idle": "2024-12-01T12:04:53.161874Z",
     "shell.execute_reply": "2024-12-01T12:04:53.161433Z",
     "shell.execute_reply.started": "2024-12-01T12:04:53.151051Z"
    }
   },
   "outputs": [
    {
     "name": "stdout",
     "output_type": "stream",
     "text": [
      "Found 201 images belonging to 2 classes.\n"
     ]
    }
   ],
   "source": [
    "test_generator = ImageDataGenerator(rescale=1./255).flow_from_directory(test_dir,\n",
    "                                                                    class_mode='binary',\n",
    "                                                                    target_size=(200,200),\n",
    "                                                                    batch_size=20,\n",
    "                                                                    shuffle=True\n",
    "                                                                    )"
   ]
  },
  {
   "cell_type": "code",
   "execution_count": 11,
   "id": "02add846-e7d5-4981-b3cb-f88378da958f",
   "metadata": {
    "execution": {
     "iopub.execute_input": "2024-12-01T12:04:53.162808Z",
     "iopub.status.busy": "2024-12-01T12:04:53.162417Z",
     "iopub.status.idle": "2024-12-01T12:05:46.695161Z",
     "shell.execute_reply": "2024-12-01T12:05:46.694591Z",
     "shell.execute_reply.started": "2024-12-01T12:04:53.162789Z"
    }
   },
   "outputs": [
    {
     "name": "stderr",
     "output_type": "stream",
     "text": [
      "/opt/saturncloud/envs/saturn/lib/python3.12/site-packages/keras/src/trainers/data_adapters/py_dataset_adapter.py:121: UserWarning: Your `PyDataset` class should call `super().__init__(**kwargs)` in its constructor. `**kwargs` can include `workers`, `use_multiprocessing`, `max_queue_size`. Do not pass these arguments to `fit()`, as they will be ignored.\n",
      "  self._warn_if_super_not_called()\n"
     ]
    },
    {
     "name": "stdout",
     "output_type": "stream",
     "text": [
      "Epoch 1/10\n"
     ]
    },
    {
     "name": "stderr",
     "output_type": "stream",
     "text": [
      "WARNING: All log messages before absl::InitializeLog() is called are written to STDERR\n",
      "I0000 00:00:1733054694.127678    4720 service.cc:146] XLA service 0x7f85700198b0 initialized for platform CUDA (this does not guarantee that XLA will be used). Devices:\n",
      "I0000 00:00:1733054694.127717    4720 service.cc:154]   StreamExecutor device (0): Tesla T4, Compute Capability 7.5\n",
      "2024-12-01 12:04:54.146372: I tensorflow/compiler/mlir/tensorflow/utils/dump_mlir_util.cc:268] disabling MLIR crash reproducer, set env var `MLIR_CRASH_REPRODUCER_DIRECTORY` to enable.\n",
      "2024-12-01 12:04:54.244431: I external/local_xla/xla/stream_executor/cuda/cuda_dnn.cc:531] Loaded cuDNN version 8907\n"
     ]
    },
    {
     "name": "stdout",
     "output_type": "stream",
     "text": [
      "\u001b[1m 4/40\u001b[0m \u001b[32m━━\u001b[0m\u001b[37m━━━━━━━━━━━━━━━━━━\u001b[0m \u001b[1m1s\u001b[0m 47ms/step - accuracy: 0.5562 - loss: 0.7185"
     ]
    },
    {
     "name": "stderr",
     "output_type": "stream",
     "text": [
      "I0000 00:00:1733054695.537168    4720 device_compiler.h:188] Compiled cluster using XLA!  This line is logged at most once for the lifetime of the process.\n"
     ]
    },
    {
     "name": "stdout",
     "output_type": "stream",
     "text": [
      "\u001b[1m40/40\u001b[0m \u001b[32m━━━━━━━━━━━━━━━━━━━━\u001b[0m\u001b[37m\u001b[0m \u001b[1m8s\u001b[0m 153ms/step - accuracy: 0.5504 - loss: 0.7057 - val_accuracy: 0.6318 - val_loss: 0.6439\n",
      "Epoch 2/10\n",
      "\u001b[1m40/40\u001b[0m \u001b[32m━━━━━━━━━━━━━━━━━━━━\u001b[0m\u001b[37m\u001b[0m \u001b[1m5s\u001b[0m 127ms/step - accuracy: 0.7151 - loss: 0.5808 - val_accuracy: 0.5622 - val_loss: 0.7156\n",
      "Epoch 3/10\n",
      "\u001b[1m40/40\u001b[0m \u001b[32m━━━━━━━━━━━━━━━━━━━━\u001b[0m\u001b[37m\u001b[0m \u001b[1m5s\u001b[0m 117ms/step - accuracy: 0.6582 - loss: 0.6264 - val_accuracy: 0.6269 - val_loss: 0.6228\n",
      "Epoch 4/10\n",
      "\u001b[1m40/40\u001b[0m \u001b[32m━━━━━━━━━━━━━━━━━━━━\u001b[0m\u001b[37m\u001b[0m \u001b[1m5s\u001b[0m 124ms/step - accuracy: 0.6945 - loss: 0.5591 - val_accuracy: 0.6318 - val_loss: 0.6328\n",
      "Epoch 5/10\n",
      "\u001b[1m40/40\u001b[0m \u001b[32m━━━━━━━━━━━━━━━━━━━━\u001b[0m\u001b[37m\u001b[0m \u001b[1m5s\u001b[0m 121ms/step - accuracy: 0.7319 - loss: 0.5410 - val_accuracy: 0.6567 - val_loss: 0.5995\n",
      "Epoch 6/10\n",
      "\u001b[1m40/40\u001b[0m \u001b[32m━━━━━━━━━━━━━━━━━━━━\u001b[0m\u001b[37m\u001b[0m \u001b[1m5s\u001b[0m 125ms/step - accuracy: 0.7371 - loss: 0.5298 - val_accuracy: 0.6517 - val_loss: 0.6139\n",
      "Epoch 7/10\n",
      "\u001b[1m40/40\u001b[0m \u001b[32m━━━━━━━━━━━━━━━━━━━━\u001b[0m\u001b[37m\u001b[0m \u001b[1m5s\u001b[0m 124ms/step - accuracy: 0.7348 - loss: 0.5300 - val_accuracy: 0.6667 - val_loss: 0.6291\n",
      "Epoch 8/10\n",
      "\u001b[1m40/40\u001b[0m \u001b[32m━━━━━━━━━━━━━━━━━━━━\u001b[0m\u001b[37m\u001b[0m \u001b[1m5s\u001b[0m 126ms/step - accuracy: 0.7702 - loss: 0.4815 - val_accuracy: 0.6716 - val_loss: 0.5939\n",
      "Epoch 9/10\n",
      "\u001b[1m40/40\u001b[0m \u001b[32m━━━━━━━━━━━━━━━━━━━━\u001b[0m\u001b[37m\u001b[0m \u001b[1m5s\u001b[0m 124ms/step - accuracy: 0.7896 - loss: 0.4643 - val_accuracy: 0.6468 - val_loss: 0.5930\n",
      "Epoch 10/10\n",
      "\u001b[1m40/40\u001b[0m \u001b[32m━━━━━━━━━━━━━━━━━━━━\u001b[0m\u001b[37m\u001b[0m \u001b[1m5s\u001b[0m 125ms/step - accuracy: 0.8265 - loss: 0.4268 - val_accuracy: 0.6667 - val_loss: 0.6068\n"
     ]
    }
   ],
   "source": [
    "history = model.fit(\n",
    "    train_generator,\n",
    "    epochs=10,\n",
    "    validation_data=test_generator\n",
    ")"
   ]
  },
  {
   "cell_type": "code",
   "execution_count": 12,
   "id": "f0912c90-82f2-465e-beb3-98c03f36ccb1",
   "metadata": {
    "execution": {
     "iopub.execute_input": "2024-12-01T12:05:46.696388Z",
     "iopub.status.busy": "2024-12-01T12:05:46.696067Z",
     "iopub.status.idle": "2024-12-01T12:05:46.700573Z",
     "shell.execute_reply": "2024-12-01T12:05:46.700011Z",
     "shell.execute_reply.started": "2024-12-01T12:05:46.696363Z"
    }
   },
   "outputs": [
    {
     "data": {
      "text/plain": [
       "dict_keys(['accuracy', 'loss', 'val_accuracy', 'val_loss'])"
      ]
     },
     "execution_count": 12,
     "metadata": {},
     "output_type": "execute_result"
    }
   ],
   "source": [
    "history.history.keys()"
   ]
  },
  {
   "cell_type": "markdown",
   "id": "aebf7fa5-5483-425e-9672-0e1b886b6414",
   "metadata": {},
   "source": [
    "## Question 3\n",
    "What is the median of training accuracy for all the epochs for this model?\n",
    "\n",
    "* 0.10\n",
    "* 0.32\n",
    "* 0.50\n",
    "* 0.72"
   ]
  },
  {
   "cell_type": "code",
   "execution_count": 13,
   "id": "0b2abcff-a751-4bb7-9e3f-ea00db23384c",
   "metadata": {
    "execution": {
     "iopub.execute_input": "2024-12-01T12:05:46.701344Z",
     "iopub.status.busy": "2024-12-01T12:05:46.701135Z",
     "iopub.status.idle": "2024-12-01T12:05:46.705923Z",
     "shell.execute_reply": "2024-12-01T12:05:46.705406Z",
     "shell.execute_reply.started": "2024-12-01T12:05:46.701327Z"
    }
   },
   "outputs": [
    {
     "data": {
      "text/plain": [
       "0.7237499952316284"
      ]
     },
     "execution_count": 13,
     "metadata": {},
     "output_type": "execute_result"
    }
   ],
   "source": [
    "np.median(history.history['accuracy'])"
   ]
  },
  {
   "cell_type": "markdown",
   "id": "87f59075-e9ad-45cd-bfc6-baba051045fe",
   "metadata": {},
   "source": [
    "## Question 4\n",
    "What is the standard deviation of training loss for all the epochs for this model?\n",
    "\n",
    "* 0.028\n",
    "* 0.068\n",
    "* 0.128\n",
    "* 0.168"
   ]
  },
  {
   "cell_type": "code",
   "execution_count": 14,
   "id": "10635ed1-13c6-4dff-a34a-28cbfba4e8a7",
   "metadata": {
    "execution": {
     "iopub.execute_input": "2024-12-01T12:05:46.708015Z",
     "iopub.status.busy": "2024-12-01T12:05:46.707783Z",
     "iopub.status.idle": "2024-12-01T12:05:46.712047Z",
     "shell.execute_reply": "2024-12-01T12:05:46.711496Z",
     "shell.execute_reply.started": "2024-12-01T12:05:46.707998Z"
    }
   },
   "outputs": [
    {
     "data": {
      "text/plain": [
       "0.06696299591301712"
      ]
     },
     "execution_count": 14,
     "metadata": {},
     "output_type": "execute_result"
    }
   ],
   "source": [
    "np.std(history.history['loss'])"
   ]
  },
  {
   "cell_type": "markdown",
   "id": "33cd19c8-3e22-41ff-9c62-e617774baafc",
   "metadata": {},
   "source": [
    "## Data Augmentation\n",
    "For the next two questions, we'll generate more data using data augmentations. See [ImageDataGenerator](https://www.tensorflow.org/api_docs/python/tf/keras/preprocessing/image/ImageDataGenerator).\n",
    "\n",
    "Add the following augmentations to your training data generator:\n",
    "\n",
    "* `rotation_range=50`,\n",
    "* `width_shift_range=0.1`,\n",
    "* `height_shift_range=0.1`,\n",
    "* `zoom_range=0.1`,\n",
    "* `horizontal_flip=True`,\n",
    "* `fill_mode='nearest'`"
   ]
  },
  {
   "cell_type": "code",
   "execution_count": 15,
   "id": "cabb4ad3-247b-4fc2-a044-f972084da163",
   "metadata": {
    "execution": {
     "iopub.execute_input": "2024-12-01T12:05:46.713604Z",
     "iopub.status.busy": "2024-12-01T12:05:46.713362Z",
     "iopub.status.idle": "2024-12-01T12:05:46.716726Z",
     "shell.execute_reply": "2024-12-01T12:05:46.716254Z",
     "shell.execute_reply.started": "2024-12-01T12:05:46.713587Z"
    }
   },
   "outputs": [],
   "source": [
    "data_augmentation = ImageDataGenerator(rescale=1./255,\n",
    "                            rotation_range=50,\n",
    "                            width_shift_range=0.1,\n",
    "                            height_shift_range=0.1,\n",
    "                            zoom_range=0.1,\n",
    "                            horizontal_flip=True,\n",
    "                            fill_mode='nearest'\n",
    "                            )"
   ]
  },
  {
   "cell_type": "code",
   "execution_count": 16,
   "id": "37435234-2c2d-4045-8093-73d7193100b9",
   "metadata": {
    "execution": {
     "iopub.execute_input": "2024-12-01T12:05:46.717550Z",
     "iopub.status.busy": "2024-12-01T12:05:46.717319Z",
     "iopub.status.idle": "2024-12-01T12:05:46.742331Z",
     "shell.execute_reply": "2024-12-01T12:05:46.741849Z",
     "shell.execute_reply.started": "2024-12-01T12:05:46.717523Z"
    }
   },
   "outputs": [
    {
     "name": "stdout",
     "output_type": "stream",
     "text": [
      "Found 800 images belonging to 2 classes.\n"
     ]
    }
   ],
   "source": [
    "train_generator_augment = data_augmentation.flow_from_directory(train_dir,\n",
    "                                                class_mode='binary',\n",
    "                                                target_size=(200,200),\n",
    "                                                batch_size=20,\n",
    "                                                shuffle=True\n",
    "                                                )"
   ]
  },
  {
   "cell_type": "markdown",
   "id": "437f5b29-838b-4836-8363-e6b27677c39f",
   "metadata": {},
   "source": [
    "## Question 5\n",
    "Let's train our model for 10 more epochs using the same code as previously.\n",
    "\n",
    ">Note: make sure you don't re-create the model - we want to continue training the model we already started training.\n",
    "\n",
    "What is the mean of test loss for all the epochs for the model trained with augmentations?\n",
    "\n",
    "* 0.26\n",
    "* 0.56\n",
    "* 0.86\n",
    "* 1.16"
   ]
  },
  {
   "cell_type": "code",
   "execution_count": 17,
   "id": "a1ef55e5-697b-415f-b85c-c3574ff3a008",
   "metadata": {
    "execution": {
     "iopub.execute_input": "2024-12-01T12:05:46.743436Z",
     "iopub.status.busy": "2024-12-01T12:05:46.743052Z",
     "iopub.status.idle": "2024-12-01T12:07:32.745033Z",
     "shell.execute_reply": "2024-12-01T12:07:32.744525Z",
     "shell.execute_reply.started": "2024-12-01T12:05:46.743416Z"
    }
   },
   "outputs": [
    {
     "name": "stdout",
     "output_type": "stream",
     "text": [
      "Epoch 1/10\n",
      "\u001b[1m40/40\u001b[0m \u001b[32m━━━━━━━━━━━━━━━━━━━━\u001b[0m\u001b[37m\u001b[0m \u001b[1m11s\u001b[0m 268ms/step - accuracy: 0.6307 - loss: 0.6556 - val_accuracy: 0.6965 - val_loss: 0.5877\n",
      "Epoch 2/10\n",
      "\u001b[1m40/40\u001b[0m \u001b[32m━━━━━━━━━━━━━━━━━━━━\u001b[0m\u001b[37m\u001b[0m \u001b[1m10s\u001b[0m 261ms/step - accuracy: 0.6814 - loss: 0.6069 - val_accuracy: 0.6716 - val_loss: 0.5659\n",
      "Epoch 3/10\n",
      "\u001b[1m40/40\u001b[0m \u001b[32m━━━━━━━━━━━━━━━━━━━━\u001b[0m\u001b[37m\u001b[0m \u001b[1m11s\u001b[0m 263ms/step - accuracy: 0.6642 - loss: 0.6125 - val_accuracy: 0.6915 - val_loss: 0.6010\n",
      "Epoch 4/10\n",
      "\u001b[1m40/40\u001b[0m \u001b[32m━━━━━━━━━━━━━━━━━━━━\u001b[0m\u001b[37m\u001b[0m \u001b[1m11s\u001b[0m 264ms/step - accuracy: 0.6855 - loss: 0.5898 - val_accuracy: 0.6965 - val_loss: 0.5653\n",
      "Epoch 5/10\n",
      "\u001b[1m40/40\u001b[0m \u001b[32m━━━━━━━━━━━━━━━━━━━━\u001b[0m\u001b[37m\u001b[0m \u001b[1m11s\u001b[0m 261ms/step - accuracy: 0.6817 - loss: 0.6261 - val_accuracy: 0.7114 - val_loss: 0.5774\n",
      "Epoch 6/10\n",
      "\u001b[1m40/40\u001b[0m \u001b[32m━━━━━━━━━━━━━━━━━━━━\u001b[0m\u001b[37m\u001b[0m \u001b[1m11s\u001b[0m 260ms/step - accuracy: 0.6879 - loss: 0.5827 - val_accuracy: 0.6368 - val_loss: 0.7231\n",
      "Epoch 7/10\n",
      "\u001b[1m40/40\u001b[0m \u001b[32m━━━━━━━━━━━━━━━━━━━━\u001b[0m\u001b[37m\u001b[0m \u001b[1m11s\u001b[0m 261ms/step - accuracy: 0.6788 - loss: 0.5691 - val_accuracy: 0.7065 - val_loss: 0.6050\n",
      "Epoch 8/10\n",
      "\u001b[1m40/40\u001b[0m \u001b[32m━━━━━━━━━━━━━━━━━━━━\u001b[0m\u001b[37m\u001b[0m \u001b[1m11s\u001b[0m 265ms/step - accuracy: 0.6701 - loss: 0.5926 - val_accuracy: 0.7164 - val_loss: 0.5634\n",
      "Epoch 9/10\n",
      "\u001b[1m40/40\u001b[0m \u001b[32m━━━━━━━━━━━━━━━━━━━━\u001b[0m\u001b[37m\u001b[0m \u001b[1m10s\u001b[0m 258ms/step - accuracy: 0.7410 - loss: 0.5296 - val_accuracy: 0.7065 - val_loss: 0.5683\n",
      "Epoch 10/10\n",
      "\u001b[1m40/40\u001b[0m \u001b[32m━━━━━━━━━━━━━━━━━━━━\u001b[0m\u001b[37m\u001b[0m \u001b[1m11s\u001b[0m 263ms/step - accuracy: 0.7074 - loss: 0.5679 - val_accuracy: 0.7214 - val_loss: 0.5472\n"
     ]
    }
   ],
   "source": [
    "history_aug = model.fit(\n",
    "    train_generator_augment,\n",
    "    epochs=10,\n",
    "    validation_data=test_generator\n",
    ")"
   ]
  },
  {
   "cell_type": "code",
   "execution_count": 18,
   "id": "086dd4c6-355a-4695-8cfd-b394617103ca",
   "metadata": {
    "execution": {
     "iopub.execute_input": "2024-12-01T12:07:32.746631Z",
     "iopub.status.busy": "2024-12-01T12:07:32.745879Z",
     "iopub.status.idle": "2024-12-01T12:07:32.751364Z",
     "shell.execute_reply": "2024-12-01T12:07:32.750874Z",
     "shell.execute_reply.started": "2024-12-01T12:07:32.746603Z"
    }
   },
   "outputs": [
    {
     "name": "stdout",
     "output_type": "stream",
     "text": [
      "10\n"
     ]
    },
    {
     "data": {
      "text/plain": [
       "0.5904381155967713"
      ]
     },
     "execution_count": 18,
     "metadata": {},
     "output_type": "execute_result"
    }
   ],
   "source": [
    "print(len(history_aug.history['val_loss']))\n",
    "np.mean(history_aug.history['val_loss'])"
   ]
  },
  {
   "cell_type": "markdown",
   "id": "b5708c4a-d6ad-4a35-bcf1-79226f9fdab4",
   "metadata": {},
   "source": [
    "## Question 6\n",
    "What's the average of test accuracy for the last 5 epochs (from 6 to 10) for the model trained with augmentations?\n",
    "\n",
    "* 0.31\n",
    "* 0.51\n",
    "* 0.71\n",
    "* 0.91"
   ]
  },
  {
   "cell_type": "code",
   "execution_count": 19,
   "id": "54c553ec-ae05-4d9d-833e-3fd6dfefc7c7",
   "metadata": {
    "execution": {
     "iopub.execute_input": "2024-12-01T12:07:32.752280Z",
     "iopub.status.busy": "2024-12-01T12:07:32.752044Z",
     "iopub.status.idle": "2024-12-01T12:07:32.756742Z",
     "shell.execute_reply": "2024-12-01T12:07:32.756286Z",
     "shell.execute_reply.started": "2024-12-01T12:07:32.752262Z"
    }
   },
   "outputs": [
    {
     "data": {
      "text/plain": [
       "0.6975124478340149"
      ]
     },
     "execution_count": 19,
     "metadata": {},
     "output_type": "execute_result"
    }
   ],
   "source": [
    "np.mean(history_aug.history['val_accuracy'][5:])"
   ]
  }
 ],
 "metadata": {
  "kernelspec": {
   "display_name": "saturn (Python 3)",
   "language": "python",
   "name": "python3"
  },
  "language_info": {
   "codemirror_mode": {
    "name": "ipython",
    "version": 3
   },
   "file_extension": ".py",
   "mimetype": "text/x-python",
   "name": "python",
   "nbconvert_exporter": "python",
   "pygments_lexer": "ipython3",
   "version": "3.12.7"
  }
 },
 "nbformat": 4,
 "nbformat_minor": 5
}
