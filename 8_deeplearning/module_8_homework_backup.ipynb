{
 "cells": [
  {
   "cell_type": "markdown",
   "id": "0f85ea4d-9780-4e84-9e75-478909d031df",
   "metadata": {},
   "source": [
    "## Dataset\n",
    "In this homework, we'll build a model for classifying various hair types. For this, we will use the Hair Type dataset that was obtained from [Kaggle](https://www.kaggle.com/datasets/kavyasreeb/hair-type-dataset) and slightly rebuilt.\n",
    "\n",
    "You can download the target dataset for this homework from [here](https://github.com/SVizor42/ML_Zoomcamp/releases/download/straight-curly-data/data.zip):\n",
    "```bash\n",
    "wget https://github.com/SVizor42/ML_Zoomcamp/releases/download/straight-curly-data/data.zip\n",
    "unzip data.zip\n",
    "```\n",
    "In the lectures we saw how to use a pre-trained neural network. In the homework, we'll train a much smaller model from scratch.\n",
    "\n",
    ">Note: you will need an environment with a GPU for this homework. We recommend to use [Saturn Cloud](https://bit.ly/saturn-mlzoomcamp). You can also use a computer without a GPU (e.g. your laptop), but it will be slower.\n",
    "\n",
    "## Data Preparation\n",
    "The dataset contains around 1000 images of hairs in the separate folders for training and test sets.\n",
    "\n",
    "## Reproducibility\n",
    "Reproducibility in deep learning is a multifaceted challenge that requires attention to both software and hardware details. In some cases, we can't guarantee exactly the same results during the same experiment runs. Therefore, in this homework we suggest to:\n",
    "\n",
    "* install tensorflow version 2.17.1\n",
    "* set the seed generators by:\n",
    "```python\n",
    "import numpy as np\n",
    "import tensorflow as tf\n",
    "\n",
    "SEED = 42\n",
    "np.random.seed(SEED)\n",
    "tf.random.set_seed(SEED)\n",
    "```"
   ]
  },
  {
   "cell_type": "code",
   "execution_count": null,
   "id": "8b489e46-658e-4428-9703-ca5fb63f4228",
   "metadata": {},
   "outputs": [],
   "source": [
    "!pip install tensorflow==2.17.1"
   ]
  },
  {
   "cell_type": "code",
   "execution_count": null,
   "id": "171311bf-e426-4866-90b1-67a34666cb04",
   "metadata": {},
   "outputs": [],
   "source": [
    "import numpy as np\n",
    "import tensorflow as tf\n",
    "from tensorflow.keras.preprocessing.image import ImageDataGenerator"
   ]
  },
  {
   "cell_type": "code",
   "execution_count": null,
   "id": "8254f7a9-a94f-4197-ad08-45bc081f157e",
   "metadata": {},
   "outputs": [],
   "source": [
    "SEED = 42\n",
    "np.random.seed(SEED)\n",
    "tf.random.set_seed(SEED)\n",
    "\n",
    "train_dir = './data/train'\n",
    "test_dir = './data/test'"
   ]
  },
  {
   "cell_type": "markdown",
   "id": "7f151208-201b-4d48-8b98-e6a818084cb5",
   "metadata": {},
   "source": [
    "## Model\n",
    "For this homework we will use Convolutional Neural Network (CNN). Like in the lectures, we'll use Keras.\n",
    "\n",
    "You need to develop the model with following structure:\n",
    "\n",
    "* The shape for input should be `(200, 200, 3)`.\n",
    "* Next, create a convolutional layer ([Conv2D](https://keras.io/api/layers/convolution_layers/convolution2d/)):\n",
    "    * Use 32 filters.\n",
    "    * Kernel size should be `(3, 3)` (that's the size of the filter).\n",
    "    * Use `'relu'` as activation.\n",
    "* Reduce the size of the feature map with max pooling ([MaxPooling2D](https://keras.io/api/layers/pooling_layers/max_pooling2d/)).\n",
    "* Set the pooling size to `(2, 2)`.\n",
    "* Turn the multi-dimensional result into vectors using a [Flatten](https://keras.io/api/layers/reshaping_layers/flatten/) layer\n",
    "* Next, add a [Dense](https://keras.io/api/layers/core_layers/dense/) layer with 64 neurons and `'relu'` activation.\n",
    "* Finally, create the `Dense` layer with 1 neuron - this will be the output.\n",
    "    * The output layer should have an activation - use the appropriate activation for the binary classification case\n",
    "As optimizer use [SGD](https://keras.io/api/optimizers/sgd/) with the following parameters:\n",
    "    * `SGD(lr=0.002, momentum=0.8)`\n",
    "For clarification about kernel size and max pooling, check [Office Hours](https://www.youtube.com/watch?v=1WRgdBTUaAc)."
   ]
  },
  {
   "cell_type": "code",
   "execution_count": null,
   "id": "9c022de0-a7e2-40bb-852d-7ff0339dce9c",
   "metadata": {},
   "outputs": [],
   "source": [
    "inputs = tf.keras.Input(shape=(200,200,3))\n",
    "Conv2d = tf.keras.layers.Conv2D(filters=32, \n",
    "                                kernel_size=(3,3),\n",
    "                                activation='relu')(inputs)\n",
    "pooling = tf.keras.layers.MaxPooling2D(pool_size=(2,2))(Conv2d)\n",
    "flatten = tf.keras.layers.Flatten()(pooling)\n",
    "dense = tf.keras.layers.Dense(64, activation='relu')(flatten)\n",
    "outputs = tf.keras.layers.Dense(1, activation='sigmoid')(dense)\n",
    "model = tf.keras.Model(inputs=inputs, outputs=outputs)"
   ]
  },
  {
   "cell_type": "code",
   "execution_count": null,
   "id": "fde9029f-d131-4fc0-b9cc-745d5d06c9f4",
   "metadata": {},
   "outputs": [],
   "source": [
    "lr = 0.002\n",
    "momentum = 0.8\n",
    "optimizer = tf.keras.optimizers.SGD(learning_rate=lr, momentum=momentum)\n",
    "\n",
    "loss = tf.keras.losses.BinaryCrossentropy(from_logits=False)\n",
    "\n",
    "model.compile(optimizer=optimizer, loss=loss, metrics=['accuracy'])"
   ]
  },
  {
   "cell_type": "markdown",
   "id": "44b5fab9-9820-4c22-9ad2-9bca503a4673",
   "metadata": {},
   "source": [
    "## Question 1\n",
    "Since we have a binary classification problem, what is the best loss function for us?\n",
    "\n",
    "* `mean squared error`\n",
    "* `binary crossentropy`\n",
    "* `categorical crossentropy`\n",
    "* `cosine similarity`\n",
    "\n",
    "Note: since we specify an activation for the output layer, we don't need to set `from_logits=True`"
   ]
  },
  {
   "cell_type": "markdown",
   "id": "71209038-569f-4499-84f4-4a63edf0765a",
   "metadata": {},
   "source": [
    "**Answer**: binary crossentropy"
   ]
  },
  {
   "cell_type": "markdown",
   "id": "a7fb5bb9-1631-407e-bdd7-6125329b125f",
   "metadata": {},
   "source": [
    "## Question 2\n",
    "What's the total number of parameters of the model? You can use the `summary` method for that.\n",
    "\n",
    "* 896\n",
    "* 11214912\n",
    "* 15896912\n",
    "* 20072512"
   ]
  },
  {
   "cell_type": "code",
   "execution_count": null,
   "id": "6401564f-5518-4c9e-a7b9-858a938a06bb",
   "metadata": {},
   "outputs": [],
   "source": [
    "model.summary()"
   ]
  },
  {
   "cell_type": "markdown",
   "id": "4987d21d-de69-4e77-9ed9-9c1cdab9854c",
   "metadata": {},
   "source": [
    "## Generators and Training\n",
    "For the next two questions, use the following data generator for both train and test sets:\n",
    "\n",
    "[`ImageDataGenerator(rescale=1./255)`](https://www.tensorflow.org/api_docs/python/tf/keras/preprocessing/image/ImageDataGenerator)\n",
    "* We don't need to do any additional pre-processing for the images.\n",
    "* When reading the data from train/test directories, check the `class_mode` parameter. Which value should it be for a binary classification problem?\n",
    "* Use `batch_size=20`\n",
    "* Use `shuffle=True` for both training and test sets.\n",
    "\n",
    "For training use [.fit()](https://keras.io/api/models/model_training_apis/#fit-method) with the following params:\n",
    "```python\n",
    "model.fit(\n",
    "    train_generator,\n",
    "    epochs=10,\n",
    "    validation_data=test_generator\n",
    ")\n",
    "```"
   ]
  },
  {
   "cell_type": "code",
   "execution_count": null,
   "id": "181d9e77-a89a-4f3f-8c53-2f4b72abf37b",
   "metadata": {},
   "outputs": [],
   "source": [
    "dir_params = {class_mode='binary',\n",
    "              batch_size=20,\n",
    "              shuffle=True\n",
    "            }"
   ]
  },
  {
   "cell_type": "code",
   "execution_count": null,
   "id": "ea222862-63b1-4f87-b76f-336d91090792",
   "metadata": {},
   "outputs": [],
   "source": [
    "train_generator = ImageDataGenerator(rescale=1./255).flow_from_directory(\n",
    "                                                                        train_dir,\n",
    "                                                                        **dir_params\n",
    "                                                                    )"
   ]
  },
  {
   "cell_type": "code",
   "execution_count": null,
   "id": "2d1d5c18-5728-4bc5-9cdc-aa8b888260f4",
   "metadata": {},
   "outputs": [],
   "source": [
    "test_generator = ImageDataGenerator(rescale=1./255).flow_from_directory(\n",
    "                                                                        test_dir,\n",
    "                                                                        **dir_params\n",
    "                                                                    )"
   ]
  },
  {
   "cell_type": "code",
   "execution_count": null,
   "id": "02add846-e7d5-4981-b3cb-f88378da958f",
   "metadata": {},
   "outputs": [],
   "source": [
    "history = model.fit(\n",
    "    train_generator,\n",
    "    epochs=10,\n",
    "    validation_data=test_generator\n",
    ")"
   ]
  },
  {
   "cell_type": "code",
   "execution_count": null,
   "id": "f0912c90-82f2-465e-beb3-98c03f36ccb1",
   "metadata": {},
   "outputs": [],
   "source": [
    "history"
   ]
  },
  {
   "cell_type": "markdown",
   "id": "aebf7fa5-5483-425e-9672-0e1b886b6414",
   "metadata": {},
   "source": [
    "## Question 3\n",
    "What is the median of training accuracy for all the epochs for this model?\n",
    "\n",
    "* 0.10\n",
    "* 0.32\n",
    "* 0.50\n",
    "* 0.72"
   ]
  },
  {
   "cell_type": "code",
   "execution_count": null,
   "id": "0b2abcff-a751-4bb7-9e3f-ea00db23384c",
   "metadata": {},
   "outputs": [],
   "source": []
  },
  {
   "cell_type": "markdown",
   "id": "87f59075-e9ad-45cd-bfc6-baba051045fe",
   "metadata": {},
   "source": [
    "## Question 4\n",
    "What is the standard deviation of training loss for all the epochs for this model?\n",
    "\n",
    "* 0.028\n",
    "* 0.068\n",
    "* 0.128\n",
    "* 0.168"
   ]
  },
  {
   "cell_type": "code",
   "execution_count": null,
   "id": "10635ed1-13c6-4dff-a34a-28cbfba4e8a7",
   "metadata": {},
   "outputs": [],
   "source": []
  },
  {
   "cell_type": "markdown",
   "id": "33cd19c8-3e22-41ff-9c62-e617774baafc",
   "metadata": {},
   "source": [
    "## Data Augmentation\n",
    "For the next two questions, we'll generate more data using data augmentations. See [ImageDataGenerator](https://www.tensorflow.org/api_docs/python/tf/keras/preprocessing/image/ImageDataGenerator).\n",
    "\n",
    "Add the following augmentations to your training data generator:\n",
    "\n",
    "* `rotation_range=50`,\n",
    "* `width_shift_range=0.1`,\n",
    "* `height_shift_range=0.1`,\n",
    "* `zoom_range=0.1`,\n",
    "* `horizontal_flip=True`,\n",
    "* `fill_mode='nearest'`"
   ]
  },
  {
   "cell_type": "code",
   "execution_count": null,
   "id": "cabb4ad3-247b-4fc2-a044-f972084da163",
   "metadata": {},
   "outputs": [],
   "source": [
    "train_gen = ImageDataGenerator(rescale=1./255,\n",
    "                            rotation_range=50,\n",
    "                            width_shift_range=0.1,\n",
    "                            height_shift_range=0.1,\n",
    "                            zoom_range=0.1,\n",
    "                            horizontal_flip=True,\n",
    "                            fill_mode='nearest'\n",
    "                            )"
   ]
  },
  {
   "cell_type": "code",
   "execution_count": null,
   "id": "37435234-2c2d-4045-8093-73d7193100b9",
   "metadata": {},
   "outputs": [],
   "source": [
    "train_generator = train_gen.flow_from_directory(\n",
    "                                                train_dir,\n",
    "                                                **dir_params\n",
    "                                            )"
   ]
  },
  {
   "cell_type": "markdown",
   "id": "437f5b29-838b-4836-8363-e6b27677c39f",
   "metadata": {},
   "source": [
    "## Question 5\n",
    "Let's train our model for 10 more epochs using the same code as previously.\n",
    "\n",
    ">Note: make sure you don't re-create the model - we want to continue training the model we already started training.\n",
    "\n",
    "What is the mean of test loss for all the epochs for the model trained with augmentations?\n",
    "\n",
    "* 0.26\n",
    "* 0.56\n",
    "* 0.86\n",
    "* 1.16"
   ]
  },
  {
   "cell_type": "code",
   "execution_count": null,
   "id": "a1ef55e5-697b-415f-b85c-c3574ff3a008",
   "metadata": {},
   "outputs": [],
   "source": [
    "history = model.fit(\n",
    "    train_generator,\n",
    "    epochs=10,\n",
    "    validation_data=test_generator\n",
    ")"
   ]
  },
  {
   "cell_type": "code",
   "execution_count": null,
   "id": "086dd4c6-355a-4695-8cfd-b394617103ca",
   "metadata": {},
   "outputs": [],
   "source": [
    "history"
   ]
  },
  {
   "cell_type": "code",
   "execution_count": null,
   "id": "3e8cfd96-bb5c-43b2-8e21-a9e29a27bb24",
   "metadata": {},
   "outputs": [],
   "source": []
  },
  {
   "cell_type": "markdown",
   "id": "b5708c4a-d6ad-4a35-bcf1-79226f9fdab4",
   "metadata": {},
   "source": [
    "## Question 6\n",
    "What's the average of test accuracy for the last 5 epochs (from 6 to 10) for the model trained with augmentations?\n",
    "\n",
    "* 0.31\n",
    "* 0.51\n",
    "* 0.71\n",
    "* 0.91"
   ]
  },
  {
   "cell_type": "code",
   "execution_count": null,
   "id": "54c553ec-ae05-4d9d-833e-3fd6dfefc7c7",
   "metadata": {},
   "outputs": [],
   "source": []
  }
 ],
 "metadata": {
  "kernelspec": {
   "display_name": "Python 3 (ipykernel)",
   "language": "python",
   "name": "python3"
  },
  "language_info": {
   "codemirror_mode": {
    "name": "ipython",
    "version": 3
   },
   "file_extension": ".py",
   "mimetype": "text/x-python",
   "name": "python",
   "nbconvert_exporter": "python",
   "pygments_lexer": "ipython3",
   "version": "3.11.5"
  }
 },
 "nbformat": 4,
 "nbformat_minor": 5
}
