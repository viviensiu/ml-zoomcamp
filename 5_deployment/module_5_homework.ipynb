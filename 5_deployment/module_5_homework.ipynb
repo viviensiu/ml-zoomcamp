{
 "cells": [
  {
   "cell_type": "markdown",
   "id": "796ccc41-1588-41df-813e-6bfa59dc822f",
   "metadata": {},
   "source": [
    "In this homework, we will use the Bank Marketing dataset. Download it from [here](https://archive.ics.uci.edu/static/public/222/bank+marketing.zip).\n",
    "\n",
    "You can do it with wget:\n",
    "```bash\n",
    "wget https://archive.ics.uci.edu/static/public/222/bank+marketing.zip\n",
    "unzip bank+marketing.zip \n",
    "unzip bank.zip\n",
    "```\n",
    "We need `bank-full.csv`.\n",
    "\n",
    "You can also access the copy of `back-full.csv` directly:\n",
    "\n",
    "`wget https://github.com/alexeygrigorev/datasets/raw/refs/heads/master/bank-full.csv`\n"
   ]
  },
  {
   "cell_type": "code",
   "execution_count": 1,
   "id": "cbc82e31-c17b-4c50-97af-dbb07aaf8265",
   "metadata": {},
   "outputs": [],
   "source": [
    "import pandas as pd\n",
    "import numpy as np\n",
    "import pickle\n",
    "import requests"
   ]
  },
  {
   "cell_type": "code",
   "execution_count": 2,
   "id": "8ccfff2a-d91b-42c6-afa4-99e63919571a",
   "metadata": {},
   "outputs": [],
   "source": [
    "path = \"../3_classification/data/bank-full.csv\""
   ]
  },
  {
   "cell_type": "code",
   "execution_count": 3,
   "id": "6ecd9a16-2981-4771-a8c2-201fcf4d3c65",
   "metadata": {},
   "outputs": [],
   "source": [
    "df = pd.read_csv(path, delimiter=\";\")"
   ]
  },
  {
   "cell_type": "code",
   "execution_count": 4,
   "id": "68589a0c-4de2-4bff-87ed-c51c7c6e91e0",
   "metadata": {},
   "outputs": [
    {
     "data": {
      "text/html": [
       "<div>\n",
       "<style scoped>\n",
       "    .dataframe tbody tr th:only-of-type {\n",
       "        vertical-align: middle;\n",
       "    }\n",
       "\n",
       "    .dataframe tbody tr th {\n",
       "        vertical-align: top;\n",
       "    }\n",
       "\n",
       "    .dataframe thead th {\n",
       "        text-align: right;\n",
       "    }\n",
       "</style>\n",
       "<table border=\"1\" class=\"dataframe\">\n",
       "  <thead>\n",
       "    <tr style=\"text-align: right;\">\n",
       "      <th></th>\n",
       "      <th>age</th>\n",
       "      <th>job</th>\n",
       "      <th>marital</th>\n",
       "      <th>education</th>\n",
       "      <th>default</th>\n",
       "      <th>balance</th>\n",
       "      <th>housing</th>\n",
       "      <th>loan</th>\n",
       "      <th>contact</th>\n",
       "      <th>day</th>\n",
       "      <th>month</th>\n",
       "      <th>duration</th>\n",
       "      <th>campaign</th>\n",
       "      <th>pdays</th>\n",
       "      <th>previous</th>\n",
       "      <th>poutcome</th>\n",
       "      <th>y</th>\n",
       "    </tr>\n",
       "  </thead>\n",
       "  <tbody>\n",
       "    <tr>\n",
       "      <th>0</th>\n",
       "      <td>58</td>\n",
       "      <td>management</td>\n",
       "      <td>married</td>\n",
       "      <td>tertiary</td>\n",
       "      <td>no</td>\n",
       "      <td>2143</td>\n",
       "      <td>yes</td>\n",
       "      <td>no</td>\n",
       "      <td>unknown</td>\n",
       "      <td>5</td>\n",
       "      <td>may</td>\n",
       "      <td>261</td>\n",
       "      <td>1</td>\n",
       "      <td>-1</td>\n",
       "      <td>0</td>\n",
       "      <td>unknown</td>\n",
       "      <td>no</td>\n",
       "    </tr>\n",
       "    <tr>\n",
       "      <th>1</th>\n",
       "      <td>44</td>\n",
       "      <td>technician</td>\n",
       "      <td>single</td>\n",
       "      <td>secondary</td>\n",
       "      <td>no</td>\n",
       "      <td>29</td>\n",
       "      <td>yes</td>\n",
       "      <td>no</td>\n",
       "      <td>unknown</td>\n",
       "      <td>5</td>\n",
       "      <td>may</td>\n",
       "      <td>151</td>\n",
       "      <td>1</td>\n",
       "      <td>-1</td>\n",
       "      <td>0</td>\n",
       "      <td>unknown</td>\n",
       "      <td>no</td>\n",
       "    </tr>\n",
       "    <tr>\n",
       "      <th>2</th>\n",
       "      <td>33</td>\n",
       "      <td>entrepreneur</td>\n",
       "      <td>married</td>\n",
       "      <td>secondary</td>\n",
       "      <td>no</td>\n",
       "      <td>2</td>\n",
       "      <td>yes</td>\n",
       "      <td>yes</td>\n",
       "      <td>unknown</td>\n",
       "      <td>5</td>\n",
       "      <td>may</td>\n",
       "      <td>76</td>\n",
       "      <td>1</td>\n",
       "      <td>-1</td>\n",
       "      <td>0</td>\n",
       "      <td>unknown</td>\n",
       "      <td>no</td>\n",
       "    </tr>\n",
       "    <tr>\n",
       "      <th>3</th>\n",
       "      <td>47</td>\n",
       "      <td>blue-collar</td>\n",
       "      <td>married</td>\n",
       "      <td>unknown</td>\n",
       "      <td>no</td>\n",
       "      <td>1506</td>\n",
       "      <td>yes</td>\n",
       "      <td>no</td>\n",
       "      <td>unknown</td>\n",
       "      <td>5</td>\n",
       "      <td>may</td>\n",
       "      <td>92</td>\n",
       "      <td>1</td>\n",
       "      <td>-1</td>\n",
       "      <td>0</td>\n",
       "      <td>unknown</td>\n",
       "      <td>no</td>\n",
       "    </tr>\n",
       "    <tr>\n",
       "      <th>4</th>\n",
       "      <td>33</td>\n",
       "      <td>unknown</td>\n",
       "      <td>single</td>\n",
       "      <td>unknown</td>\n",
       "      <td>no</td>\n",
       "      <td>1</td>\n",
       "      <td>no</td>\n",
       "      <td>no</td>\n",
       "      <td>unknown</td>\n",
       "      <td>5</td>\n",
       "      <td>may</td>\n",
       "      <td>198</td>\n",
       "      <td>1</td>\n",
       "      <td>-1</td>\n",
       "      <td>0</td>\n",
       "      <td>unknown</td>\n",
       "      <td>no</td>\n",
       "    </tr>\n",
       "  </tbody>\n",
       "</table>\n",
       "</div>"
      ],
      "text/plain": [
       "   age           job  marital  education default  balance housing loan  \\\n",
       "0   58    management  married   tertiary      no     2143     yes   no   \n",
       "1   44    technician   single  secondary      no       29     yes   no   \n",
       "2   33  entrepreneur  married  secondary      no        2     yes  yes   \n",
       "3   47   blue-collar  married    unknown      no     1506     yes   no   \n",
       "4   33       unknown   single    unknown      no        1      no   no   \n",
       "\n",
       "   contact  day month  duration  campaign  pdays  previous poutcome   y  \n",
       "0  unknown    5   may       261         1     -1         0  unknown  no  \n",
       "1  unknown    5   may       151         1     -1         0  unknown  no  \n",
       "2  unknown    5   may        76         1     -1         0  unknown  no  \n",
       "3  unknown    5   may        92         1     -1         0  unknown  no  \n",
       "4  unknown    5   may       198         1     -1         0  unknown  no  "
      ]
     },
     "execution_count": 4,
     "metadata": {},
     "output_type": "execute_result"
    }
   ],
   "source": [
    "df.head()"
   ]
  },
  {
   "cell_type": "markdown",
   "id": "5013600d-7e4f-452d-84b9-e6ec53ef7510",
   "metadata": {},
   "source": [
    "### Question 1\n",
    "\n",
    "Install Pipenv\n",
    "\n",
    "What's the version of pipenv you installed?\n",
    "\n",
    "Use `--version` to find out"
   ]
  },
  {
   "cell_type": "code",
   "execution_count": 5,
   "id": "edf94821-a351-4d6a-9b6b-d8b66a2a4e77",
   "metadata": {},
   "outputs": [
    {
     "name": "stdout",
     "output_type": "stream",
     "text": [
      "\u001b[1mpipenv\u001b[0m, version 2024.1.0\n"
     ]
    }
   ],
   "source": [
    "!pipenv --version"
   ]
  },
  {
   "cell_type": "markdown",
   "id": "81868e6b-8158-494c-95bd-aba3d2d81629",
   "metadata": {},
   "source": [
    "**Note**: fresh installation uses version 2024.2.0"
   ]
  },
  {
   "cell_type": "markdown",
   "id": "c777a6cb-21dd-43f4-a4cd-9e4bdf00f7de",
   "metadata": {},
   "source": [
    "### Question 2\n",
    "Use Pipenv to install Scikit-Learn version 1.5.2\n",
    "What's the first hash for scikit-learn you get in Pipfile.lock?\n",
    "Note: you should create an empty folder for homework and do it there."
   ]
  },
  {
   "cell_type": "markdown",
   "id": "180e3f4e-cf34-444c-ae61-846e15abbc3d",
   "metadata": {},
   "source": [
    "### Answer:\n",
    "* Create new folder `hw5` on Desktop.\n",
    "* `pip install pipenv`\n",
    "* `pipenv install scikit-learn==1.5.2`\n",
    "First hash for scikit-learn in Pipfile.lock: \"sha256:03b6158efa3faaf1feea3faa884c840ebd61b6484167c711548fce208ea09445\""
   ]
  },
  {
   "cell_type": "markdown",
   "id": "049b739b-0103-4527-a8ee-730d00021f94",
   "metadata": {},
   "source": [
    "### Models\n",
    "We've prepared a dictionary vectorizer and a model.\n",
    "\n",
    "They were trained (roughly) using this code:\n",
    "```python\n",
    "features = ['job', 'duration', 'poutcome']\n",
    "dicts = df[features].to_dict(orient='records')\n",
    "\n",
    "dv = DictVectorizer(sparse=False)\n",
    "X = dv.fit_transform(dicts)\n",
    "\n",
    "model = LogisticRegression().fit(X, y)\n",
    "```\n",
    "Note: You don't need to train the model. This code is just for your reference.\n",
    "\n",
    "And then saved with Pickle. Download them:\n",
    "\n",
    "* [DictVectorizer](https://github.com/DataTalksClub/machine-learning-zoomcamp/tree/master/cohorts/2024/05-deployment/homework/dv.bin?raw=true)\n",
    "* [LogisticRegression](https://github.com/DataTalksClub/machine-learning-zoomcamp/tree/master/cohorts/2024/05-deployment/homework/model1.bin?raw=true)\n",
    "\n",
    "With `wget`:\n",
    "```bash\n",
    "PREFIX=https://raw.githubusercontent.com/DataTalksClub/machine-learning-zoomcamp/master/cohorts/2024/05-deployment/homework\n",
    "wget $PREFIX/model1.bin\n",
    "wget $PREFIX/dv.bin\n",
    "```"
   ]
  },
  {
   "cell_type": "markdown",
   "id": "12e5ecfe-7fb1-4372-a2ca-91f84dd9d83c",
   "metadata": {},
   "source": [
    "### Question 3\n",
    "Let's use these models!\n",
    "\n",
    "* Write a script for loading these models with pickle\n",
    "* Score this client:\n",
    "```{\"job\": \"management\", \"duration\": 400, \"poutcome\": \"success\"}```\n",
    "What's the probability that this client will get a subscription?\n",
    "\n",
    "* 0.359\n",
    "* 0.559\n",
    "* 0.759\n",
    "* 0.959\n",
    "\n",
    "If you're getting errors when unpickling the files, check their checksum:\n",
    "```\n",
    "$ md5sum model1.bin dv.bin\n",
    "3d8bb28974e55edefa000fe38fd3ed12  model1.bin\n",
    "7d37616e00aa80f2152b8b0511fc2dff  dv.bin\n",
    "```"
   ]
  },
  {
   "cell_type": "code",
   "execution_count": 6,
   "id": "943c6ebf-f502-463c-8321-40a51e0e2d46",
   "metadata": {},
   "outputs": [
    {
     "name": "stderr",
     "output_type": "stream",
     "text": [
      "/Users/viviensiew/anaconda3/envs/ml-zoomcamp-env/lib/python3.12/site-packages/sklearn/base.py:376: InconsistentVersionWarning: Trying to unpickle estimator DictVectorizer from version 1.5.2 when using version 1.5.1. This might lead to breaking code or invalid results. Use at your own risk. For more info please refer to:\n",
      "https://scikit-learn.org/stable/model_persistence.html#security-maintainability-limitations\n",
      "  warnings.warn(\n",
      "/Users/viviensiew/anaconda3/envs/ml-zoomcamp-env/lib/python3.12/site-packages/sklearn/base.py:376: InconsistentVersionWarning: Trying to unpickle estimator LogisticRegression from version 1.5.2 when using version 1.5.1. This might lead to breaking code or invalid results. Use at your own risk. For more info please refer to:\n",
      "https://scikit-learn.org/stable/model_persistence.html#security-maintainability-limitations\n",
      "  warnings.warn(\n"
     ]
    }
   ],
   "source": [
    "with open(\"dv.bin\", 'rb') as d:\n",
    "    dv = pickle.load(d)\n",
    "with open(\"model1.bin\", 'rb') as m:\n",
    "    model = pickle.load(m)"
   ]
  },
  {
   "cell_type": "code",
   "execution_count": 7,
   "id": "fa2df722-a40a-43f9-bc71-108453cc4a6b",
   "metadata": {},
   "outputs": [
    {
     "name": "stdout",
     "output_type": "stream",
     "text": [
      "0.759\n"
     ]
    }
   ],
   "source": [
    "client = {\"job\": \"management\", \"duration\": 400, \"poutcome\": \"success\"}\n",
    "dv_client = dv.transform(client)\n",
    "pred = model.predict_proba(dv_client)\n",
    "print(round(pred[0,1], 3))"
   ]
  },
  {
   "cell_type": "markdown",
   "id": "6f439945-f137-4f08-9894-53cbcdee288e",
   "metadata": {},
   "source": [
    "### Question 4\n",
    "Now let's serve this model as a web service\n",
    "\n",
    "* Install Flask and gunicorn (or waitress, if you're on Windows)\n",
    "* Write Flask code for serving the model\n",
    "* Now score this client using `requests`:\n",
    "```\n",
    "url = \"YOUR_URL\"\n",
    "client = {\"job\": \"student\", \"duration\": 280, \"poutcome\": \"failure\"}\n",
    "requests.post(url, json=client).json()\n",
    "```\n",
    "What's the probability that this client will get a subscription?\n",
    "\n",
    "* 0.335\n",
    "* 0.535\n",
    "* 0.735\n",
    "* 0.935\n"
   ]
  },
  {
   "cell_type": "markdown",
   "id": "739a15c8-04a6-4d48-b688-d89beb27e214",
   "metadata": {},
   "source": [
    "### Answer using Flask\n",
    "In new VSCode window for `hw5` folder (separated from module 5 enviroment and folder):\n",
    "* Create flask app in `hw5_predict.py`.\n",
    "* `pipenv install flask gunicorn requests`.\n",
    "* `pipenv shell`.\n",
    "* `python hw5_predict.py` to activate the flask app and serve the model.\n",
    "* Then run the next code chunk below by replacing with the actual url."
   ]
  },
  {
   "cell_type": "code",
   "execution_count": 8,
   "id": "c4d4faae-d80e-45e6-963c-76adf5d4768e",
   "metadata": {},
   "outputs": [
    {
     "data": {
      "text/plain": [
       "{'subscription_probability': 0.33480703475511053}"
      ]
     },
     "execution_count": 8,
     "metadata": {},
     "output_type": "execute_result"
    }
   ],
   "source": [
    "url = \"http://127.0.0.1:9696/predict\"\n",
    "client = {\"job\": \"student\", \"duration\": 280, \"poutcome\": \"failure\"}\n",
    "requests.post(url, json=client).json()"
   ]
  },
  {
   "cell_type": "markdown",
   "id": "01deb4c7-a0b2-4470-81e7-f3312eab9fb2",
   "metadata": {},
   "source": [
    "### Alternative to cross check answer within this notebook"
   ]
  },
  {
   "cell_type": "code",
   "execution_count": 9,
   "id": "53a7a99e-14e7-4d14-b72d-8fe1b21c9b05",
   "metadata": {},
   "outputs": [
    {
     "name": "stdout",
     "output_type": "stream",
     "text": [
      "0.335\n"
     ]
    }
   ],
   "source": [
    "client2 = {\"job\": \"student\", \"duration\": 280, \"poutcome\": \"failure\"}\n",
    "dv_client2 = dv.transform(client2)\n",
    "pred = model.predict_proba(dv_client2)\n",
    "print(round(pred[0,1], 3))"
   ]
  },
  {
   "cell_type": "markdown",
   "id": "f0b1efad-9b1f-428f-8e5f-7f6e606992fc",
   "metadata": {},
   "source": [
    "### Docker\n",
    "Install Docker. We will use it for the next two questions.\n",
    "\n",
    "For these questions, we prepared a base image: `svizor/zoomcamp-model:3.11.5-slim`. You'll need to use it (see Question 5 for an example).\n",
    "\n",
    "This image is based on `python:3.11.5-slim` and has a logistic regression model (a different one) as well a dictionary vectorizer inside.\n",
    "\n",
    "This is how the Dockerfile for this image looks like:\n",
    "```\n",
    "FROM python:3.11.5-slim\n",
    "WORKDIR /app\n",
    "COPY [\"model2.bin\", \"dv.bin\", \"./\"]\n",
    "```\n",
    "We already built it and then pushed it to [`svizor/zoomcamp-model:3.11.5-slim`](https://hub.docker.com/r/svizor/zoomcamp-model).\n",
    "\n",
    "Note: You don't need to build this docker image, it's just for your reference.\n"
   ]
  },
  {
   "cell_type": "markdown",
   "id": "060c7d75-195a-43c2-a70d-6d325cdc7d2c",
   "metadata": {},
   "source": [
    "### Question 5\n",
    "Download the base image `svizor/zoomcamp-model:3.11.5-slim`. You can easily make it by using docker pull command.\n",
    "\n",
    "So what's the size of this base image?\n",
    "\n",
    "* 45 MB\n",
    "* 130 MB\n",
    "* 245 MB\n",
    "* 330 MB\n",
    "\n",
    "You can get this information when running `docker images` - it'll be in the \"SIZE\" column.\n",
    "\n"
   ]
  },
  {
   "cell_type": "markdown",
   "id": "0e2d1e15-e510-4b54-aa48-6752de4add74",
   "metadata": {},
   "source": [
    "### Answer:\n",
    "* Execute `docker pull svizor/zoomcamp-model:3.11.5-slim`\n",
    "* Then `docker images`\n",
    "  \n",
    "Answer: `svizor/zoomcamp-model                           3.11.5-slim   975e7bdca086   4 days ago     130MB`"
   ]
  },
  {
   "cell_type": "markdown",
   "id": "9bf2b68b-818c-42ee-8c27-710a42f06cd3",
   "metadata": {},
   "source": [
    "### Dockerfile\n",
    "Now create your own Dockerfile based on the image we prepared.\n",
    "\n",
    "It should start like that:\n",
    "```\n",
    "FROM svizor/zoomcamp-model:3.11.5-slim\n",
    "# add your stuff here\n",
    "```\n",
    "Now complete it:\n",
    "\n",
    "* Install all the dependencies form the Pipenv file\n",
    "* Copy your Flask script\n",
    "* Run it with Gunicorn\n",
    "\n",
    "After that, you can build your docker image.\n",
    "\n"
   ]
  },
  {
   "cell_type": "markdown",
   "id": "883a7e6d-c5a4-484f-9570-82676e1fa6ac",
   "metadata": {},
   "source": [
    "### Answer for Dockerfile\n",
    "```bash\n",
    "FROM svizor/zoomcamp-model:3.11.5-slim\n",
    "\n",
    "RUN pip install pipenv\n",
    "\n",
    "# Create working directory named /app\n",
    "WORKDIR /app\n",
    "\n",
    "# Copy these files into working directory\n",
    "COPY [\"Pipfile\", \"Pipfile.lock\", \"./\"]\n",
    "\n",
    "# install the pipenv dependencies for the project and deploy them.\n",
    "# --system: install a Pipfile’s contents into its parent system, e.g. Docker and Heroku.\n",
    "# --deploy: use Pipenv as part of a deployment process\n",
    "RUN pipenv install --deploy --system\n",
    "\n",
    "# Copy any python files and the model we had to the working directory of Docker \n",
    "COPY [\"*.py\", \"./\"]\n",
    "\n",
    "# We need to expose the 9696 port because we're not able to communicate with Docker outside it\n",
    "EXPOSE 9696\n",
    "\n",
    "# If we run the Docker image, we want our churn app to be running\n",
    "ENTRYPOINT [\"gunicorn\", \"--bind\", \"0.0.0.0:9696\", \"hw5_predict:app\"]\n",
    "```\n",
    "* Run `docker build -t hw5_predict .` to build docker image."
   ]
  },
  {
   "cell_type": "markdown",
   "id": "3f65525e-f0b0-4e49-868b-006d08fbe14b",
   "metadata": {},
   "source": [
    "### Question 6\n",
    "Let's run your docker container!\n",
    "\n",
    "After running it, score this client once again:\n",
    "```\n",
    "url = \"YOUR_URL\"\n",
    "client = {\"job\": \"management\", \"duration\": 400, \"poutcome\": \"success\"}\n",
    "requests.post(url, json=client).json()\n",
    "```\n",
    "What's the probability that this client will get a subscription now?\n",
    "\n",
    "* 0.287\n",
    "* 0.530\n",
    "* 0.757\n",
    "* 0.960\n"
   ]
  },
  {
   "cell_type": "markdown",
   "id": "e8a6582c-d8dc-4f85-a101-dae2d1d332d8",
   "metadata": {},
   "source": [
    "**NOTE**: `docker run -it -p 9696:9696 --name hw5 hw5_predict`"
   ]
  },
  {
   "cell_type": "markdown",
   "id": "0b4a060d-2d67-4ecc-acd1-2928d040a61e",
   "metadata": {},
   "source": [
    "**NOTE** \n",
    "* Update flask to use `model2.bin` instead."
   ]
  },
  {
   "cell_type": "code",
   "execution_count": 10,
   "id": "c124ec87-9ff4-4e9b-b83b-46fcb7206ee2",
   "metadata": {},
   "outputs": [
    {
     "data": {
      "text/plain": [
       "{'subscription_probability': 0.756743795240796}"
      ]
     },
     "execution_count": 10,
     "metadata": {},
     "output_type": "execute_result"
    }
   ],
   "source": [
    "url = \"http://127.0.0.1:9696/predict\"\n",
    "client = {\"job\": \"management\", \"duration\": 400, \"poutcome\": \"success\"}\n",
    "requests.post(url, json=client).json()"
   ]
  },
  {
   "cell_type": "code",
   "execution_count": null,
   "id": "04f355e8-725d-4eb4-a90f-504eff7c6539",
   "metadata": {},
   "outputs": [],
   "source": []
  }
 ],
 "metadata": {
  "kernelspec": {
   "display_name": "Python 3 (ipykernel)",
   "language": "python",
   "name": "python3"
  },
  "language_info": {
   "codemirror_mode": {
    "name": "ipython",
    "version": 3
   },
   "file_extension": ".py",
   "mimetype": "text/x-python",
   "name": "python",
   "nbconvert_exporter": "python",
   "pygments_lexer": "ipython3",
   "version": "3.12.5"
  }
 },
 "nbformat": 4,
 "nbformat_minor": 5
}
