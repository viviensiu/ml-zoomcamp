{
 "cells": [
  {
   "cell_type": "markdown",
   "id": "73bfcc68-12d0-4c6d-b51c-7c702f03658e",
   "metadata": {},
   "source": [
    "## Homework\n",
    "\n",
    "In this homework, we'll deploy the Straight vs Curly Hair Type model we trained in the \n",
    "[previous homework](../08-deep-learning/homework.md).\n",
    "\n",
    "Download the model from here: \n",
    "\n",
    "[https://github.com/alexeygrigorev/large-datasets/releases/download/hairstyle/model_2024_hairstyle.keras](https://github.com/alexeygrigorev/large-datasets/releases/download/hairstyle/model_2024_hairstyle.keras)"
   ]
  },
  {
   "cell_type": "code",
   "execution_count": 1,
   "id": "5fc3b32a-8266-478e-8a55-79d62bebe1f6",
   "metadata": {
    "execution": {
     "iopub.execute_input": "2024-12-08T11:44:27.376688Z",
     "iopub.status.busy": "2024-12-08T11:44:27.376316Z",
     "iopub.status.idle": "2024-12-08T11:44:27.379374Z",
     "shell.execute_reply": "2024-12-08T11:44:27.378871Z",
     "shell.execute_reply.started": "2024-12-08T11:44:27.376668Z"
    },
    "scrolled": true
   },
   "outputs": [],
   "source": [
    "#!pip install tensorflow==2.17.1"
   ]
  },
  {
   "cell_type": "code",
   "execution_count": 2,
   "id": "67aeacf9-16a8-4859-b4fe-a102381db1f0",
   "metadata": {
    "execution": {
     "iopub.execute_input": "2024-12-08T11:44:27.380145Z",
     "iopub.status.busy": "2024-12-08T11:44:27.379905Z",
     "iopub.status.idle": "2024-12-08T11:44:27.384824Z",
     "shell.execute_reply": "2024-12-08T11:44:27.384309Z",
     "shell.execute_reply.started": "2024-12-08T11:44:27.380128Z"
    },
    "scrolled": true
   },
   "outputs": [],
   "source": [
    "#!wget https://github.com/alexeygrigorev/large-datasets/releases/download/hairstyle/model_2024_hairstyle.keras"
   ]
  },
  {
   "cell_type": "markdown",
   "id": "def836c3-e328-4091-a6e5-b7c7fbace249",
   "metadata": {},
   "source": [
    "## Question 1\n",
    "\n",
    "Now convert this model from Keras to TF-Lite format.\n",
    "\n",
    "What's the size of the **converted** model?\n",
    "\n",
    "* 27 Mb\n",
    "* 43 Mb\n",
    "* 77 Mb\n",
    "* 127 Mb"
   ]
  },
  {
   "cell_type": "code",
   "execution_count": 3,
   "id": "344667bb-cdf5-405b-af96-2af83492d828",
   "metadata": {
    "execution": {
     "iopub.execute_input": "2024-12-08T11:44:27.385874Z",
     "iopub.status.busy": "2024-12-08T11:44:27.385447Z",
     "iopub.status.idle": "2024-12-08T11:44:30.101039Z",
     "shell.execute_reply": "2024-12-08T11:44:30.100389Z",
     "shell.execute_reply.started": "2024-12-08T11:44:27.385856Z"
    },
    "scrolled": true
   },
   "outputs": [
    {
     "name": "stderr",
     "output_type": "stream",
     "text": [
      "2024-12-08 11:44:27.713045: I tensorflow/core/util/port.cc:153] oneDNN custom operations are on. You may see slightly different numerical results due to floating-point round-off errors from different computation orders. To turn them off, set the environment variable `TF_ENABLE_ONEDNN_OPTS=0`.\n",
      "2024-12-08 11:44:27.731334: E external/local_xla/xla/stream_executor/cuda/cuda_fft.cc:485] Unable to register cuFFT factory: Attempting to register factory for plugin cuFFT when one has already been registered\n",
      "2024-12-08 11:44:27.750769: E external/local_xla/xla/stream_executor/cuda/cuda_dnn.cc:8454] Unable to register cuDNN factory: Attempting to register factory for plugin cuDNN when one has already been registered\n",
      "2024-12-08 11:44:27.756739: E external/local_xla/xla/stream_executor/cuda/cuda_blas.cc:1452] Unable to register cuBLAS factory: Attempting to register factory for plugin cuBLAS when one has already been registered\n",
      "2024-12-08 11:44:27.770665: I tensorflow/core/platform/cpu_feature_guard.cc:210] This TensorFlow binary is optimized to use available CPU instructions in performance-critical operations.\n",
      "To enable the following instructions: AVX2 AVX512F AVX512_VNNI FMA, in other operations, rebuild TensorFlow with the appropriate compiler flags.\n",
      "2024-12-08 11:44:28.620954: W tensorflow/compiler/tf2tensorrt/utils/py_utils.cc:38] TF-TRT Warning: Could not find TensorRT\n"
     ]
    }
   ],
   "source": [
    "import numpy as np\n",
    "\n",
    "import tensorflow as tf\n",
    "from tensorflow import keras\n",
    "import tensorflow.lite as tflite\n",
    "\n",
    "from io import BytesIO\n",
    "from urllib import request\n",
    "\n",
    "from PIL import Image"
   ]
  },
  {
   "cell_type": "code",
   "execution_count": 4,
   "id": "e1f12825-1a54-4ff1-b52b-ef475a4cc865",
   "metadata": {
    "execution": {
     "iopub.execute_input": "2024-12-08T11:44:30.102880Z",
     "iopub.status.busy": "2024-12-08T11:44:30.101949Z",
     "iopub.status.idle": "2024-12-08T11:44:30.106115Z",
     "shell.execute_reply": "2024-12-08T11:44:30.105614Z",
     "shell.execute_reply.started": "2024-12-08T11:44:30.102844Z"
    }
   },
   "outputs": [],
   "source": [
    "keras_model = 'model_2024_hairstyle.keras'\n",
    "tflite_model_path = 'hairstyle-2024-model.tflite'"
   ]
  },
  {
   "cell_type": "code",
   "execution_count": 5,
   "id": "fd8b0349-7cea-4526-8b68-d5fb9fe1a6fd",
   "metadata": {
    "execution": {
     "iopub.execute_input": "2024-12-08T11:44:30.107093Z",
     "iopub.status.busy": "2024-12-08T11:44:30.106858Z",
     "iopub.status.idle": "2024-12-08T11:44:31.806457Z",
     "shell.execute_reply": "2024-12-08T11:44:31.805924Z",
     "shell.execute_reply.started": "2024-12-08T11:44:30.107068Z"
    },
    "scrolled": true
   },
   "outputs": [
    {
     "name": "stderr",
     "output_type": "stream",
     "text": [
      "WARNING: All log messages before absl::InitializeLog() is called are written to STDERR\n",
      "I0000 00:00:1733658270.143523    6170 cuda_executor.cc:1015] successful NUMA node read from SysFS had negative value (-1), but there must be at least one NUMA node, so returning NUMA node zero. See more at https://github.com/torvalds/linux/blob/v6.0/Documentation/ABI/testing/sysfs-bus-pci#L344-L355\n",
      "I0000 00:00:1733658270.194968    6170 cuda_executor.cc:1015] successful NUMA node read from SysFS had negative value (-1), but there must be at least one NUMA node, so returning NUMA node zero. See more at https://github.com/torvalds/linux/blob/v6.0/Documentation/ABI/testing/sysfs-bus-pci#L344-L355\n",
      "I0000 00:00:1733658270.195227    6170 cuda_executor.cc:1015] successful NUMA node read from SysFS had negative value (-1), but there must be at least one NUMA node, so returning NUMA node zero. See more at https://github.com/torvalds/linux/blob/v6.0/Documentation/ABI/testing/sysfs-bus-pci#L344-L355\n",
      "I0000 00:00:1733658270.196036    6170 cuda_executor.cc:1015] successful NUMA node read from SysFS had negative value (-1), but there must be at least one NUMA node, so returning NUMA node zero. See more at https://github.com/torvalds/linux/blob/v6.0/Documentation/ABI/testing/sysfs-bus-pci#L344-L355\n",
      "I0000 00:00:1733658270.196256    6170 cuda_executor.cc:1015] successful NUMA node read from SysFS had negative value (-1), but there must be at least one NUMA node, so returning NUMA node zero. See more at https://github.com/torvalds/linux/blob/v6.0/Documentation/ABI/testing/sysfs-bus-pci#L344-L355\n",
      "I0000 00:00:1733658270.196398    6170 cuda_executor.cc:1015] successful NUMA node read from SysFS had negative value (-1), but there must be at least one NUMA node, so returning NUMA node zero. See more at https://github.com/torvalds/linux/blob/v6.0/Documentation/ABI/testing/sysfs-bus-pci#L344-L355\n",
      "I0000 00:00:1733658270.279049    6170 cuda_executor.cc:1015] successful NUMA node read from SysFS had negative value (-1), but there must be at least one NUMA node, so returning NUMA node zero. See more at https://github.com/torvalds/linux/blob/v6.0/Documentation/ABI/testing/sysfs-bus-pci#L344-L355\n",
      "I0000 00:00:1733658270.279300    6170 cuda_executor.cc:1015] successful NUMA node read from SysFS had negative value (-1), but there must be at least one NUMA node, so returning NUMA node zero. See more at https://github.com/torvalds/linux/blob/v6.0/Documentation/ABI/testing/sysfs-bus-pci#L344-L355\n",
      "I0000 00:00:1733658270.279455    6170 cuda_executor.cc:1015] successful NUMA node read from SysFS had negative value (-1), but there must be at least one NUMA node, so returning NUMA node zero. See more at https://github.com/torvalds/linux/blob/v6.0/Documentation/ABI/testing/sysfs-bus-pci#L344-L355\n",
      "2024-12-08 11:44:30.279573: I tensorflow/core/common_runtime/gpu/gpu_device.cc:2021] Created device /job:localhost/replica:0/task:0/device:GPU:0 with 13942 MB memory:  -> device: 0, name: Tesla T4, pci bus id: 0000:00:1e.0, compute capability: 7.5\n"
     ]
    }
   ],
   "source": [
    "model = keras.models.load_model(keras_model)"
   ]
  },
  {
   "cell_type": "code",
   "execution_count": 6,
   "id": "b442c841-c021-4d46-b8ea-9e83e9491070",
   "metadata": {
    "execution": {
     "iopub.execute_input": "2024-12-08T11:44:31.809049Z",
     "iopub.status.busy": "2024-12-08T11:44:31.808721Z",
     "iopub.status.idle": "2024-12-08T11:44:34.572485Z",
     "shell.execute_reply": "2024-12-08T11:44:34.571792Z",
     "shell.execute_reply.started": "2024-12-08T11:44:31.809025Z"
    }
   },
   "outputs": [
    {
     "name": "stdout",
     "output_type": "stream",
     "text": [
      "INFO:tensorflow:Assets written to: /tmp/tmpkh6yxyi2/assets\n"
     ]
    },
    {
     "name": "stderr",
     "output_type": "stream",
     "text": [
      "INFO:tensorflow:Assets written to: /tmp/tmpkh6yxyi2/assets\n"
     ]
    },
    {
     "name": "stdout",
     "output_type": "stream",
     "text": [
      "Saved artifact at '/tmp/tmpkh6yxyi2'. The following endpoints are available:\n",
      "\n",
      "* Endpoint 'serve'\n",
      "  args_0 (POSITIONAL_ONLY): TensorSpec(shape=(None, 200, 200, 3), dtype=tf.float32, name='input_layer')\n",
      "Output Type:\n",
      "  TensorSpec(shape=(None, 1), dtype=tf.float32, name=None)\n",
      "Captures:\n",
      "  140208292664656: TensorSpec(shape=(), dtype=tf.resource, name=None)\n",
      "  140208292666192: TensorSpec(shape=(), dtype=tf.resource, name=None)\n",
      "  140208292666960: TensorSpec(shape=(), dtype=tf.resource, name=None)\n",
      "  140208292667728: TensorSpec(shape=(), dtype=tf.resource, name=None)\n",
      "  140208292668880: TensorSpec(shape=(), dtype=tf.resource, name=None)\n",
      "  140208292669456: TensorSpec(shape=(), dtype=tf.resource, name=None)\n"
     ]
    },
    {
     "name": "stderr",
     "output_type": "stream",
     "text": [
      "WARNING: All log messages before absl::InitializeLog() is called are written to STDERR\n",
      "W0000 00:00:1733658272.408634    6170 tf_tfl_flatbuffer_helpers.cc:392] Ignored output_format.\n",
      "W0000 00:00:1733658272.408661    6170 tf_tfl_flatbuffer_helpers.cc:395] Ignored drop_control_dependency.\n",
      "2024-12-08 11:44:32.409393: I tensorflow/cc/saved_model/reader.cc:83] Reading SavedModel from: /tmp/tmpkh6yxyi2\n",
      "2024-12-08 11:44:32.410121: I tensorflow/cc/saved_model/reader.cc:52] Reading meta graph with tags { serve }\n",
      "2024-12-08 11:44:32.410138: I tensorflow/cc/saved_model/reader.cc:147] Reading SavedModel debug info (if present) from: /tmp/tmpkh6yxyi2\n",
      "2024-12-08 11:44:32.413917: I tensorflow/compiler/mlir/mlir_graph_optimization_pass.cc:388] MLIR V1 optimization pass is not enabled\n",
      "2024-12-08 11:44:32.414676: I tensorflow/cc/saved_model/loader.cc:236] Restoring SavedModel bundle.\n",
      "2024-12-08 11:44:32.517414: I tensorflow/cc/saved_model/loader.cc:220] Running initialization op on SavedModel bundle at path: /tmp/tmpkh6yxyi2\n",
      "2024-12-08 11:44:32.526067: I tensorflow/cc/saved_model/loader.cc:462] SavedModel load for tags { serve }; Status: success: OK. Took 116676 microseconds.\n",
      "2024-12-08 11:44:32.534487: I tensorflow/compiler/mlir/tensorflow/utils/dump_mlir_util.cc:268] disabling MLIR crash reproducer, set env var `MLIR_CRASH_REPRODUCER_DIRECTORY` to enable.\n"
     ]
    }
   ],
   "source": [
    "converter = tf.lite.TFLiteConverter.from_keras_model(model)\n",
    "\n",
    "tflite_model = converter.convert()\n",
    "\n",
    "with open(tflite_model_path, 'wb') as f_out:\n",
    "    f_out.write(tflite_model)"
   ]
  },
  {
   "cell_type": "code",
   "execution_count": 7,
   "id": "f82469a4-42df-4033-ac85-07d8989b7f12",
   "metadata": {
    "execution": {
     "iopub.execute_input": "2024-12-08T11:44:34.573622Z",
     "iopub.status.busy": "2024-12-08T11:44:34.573333Z",
     "iopub.status.idle": "2024-12-08T11:44:35.209748Z",
     "shell.execute_reply": "2024-12-08T11:44:35.209083Z",
     "shell.execute_reply.started": "2024-12-08T11:44:34.573601Z"
    }
   },
   "outputs": [
    {
     "name": "stdout",
     "output_type": "stream",
     "text": [
      "total 231M\n",
      "drwxr-sr-x 3 jovyan jovyan 4.0K Dec  8 11:08 code\n",
      "-rw-r--r-- 1 jovyan jovyan  77M Dec  8 11:44 hairstyle-2024-model.tflite\n",
      "-rw-r--r-- 1 jovyan jovyan 154M Dec  2 14:28 model_2024_hairstyle.keras\n",
      "-rw-r--r-- 1 jovyan jovyan  29K Dec  8 11:42 module_9_homework.ipynb\n",
      "-rw-r--r-- 1 jovyan jovyan 9.6K Dec  8 11:02 NOTES.md\n",
      "-rw-r--r-- 1 jovyan jovyan 389K Dec  8 11:28 yf_dokzqy3vcritme8ggnzqlvwa.jpeg\n"
     ]
    }
   ],
   "source": [
    "!ls -lh"
   ]
  },
  {
   "cell_type": "markdown",
   "id": "5b067a5d-3159-4016-8c7e-6685486c87d9",
   "metadata": {},
   "source": [
    "## Question 2\n",
    "\n",
    "To be able to use this model, we need to know the index of the input and \n",
    "the index of the output. \n",
    "\n",
    "What's the output index for this model?\n",
    "\n",
    "* 3\n",
    "* 7\n",
    "* 13\n",
    "* 24"
   ]
  },
  {
   "cell_type": "code",
   "execution_count": 8,
   "id": "26a1b3f1-5e24-40c7-9e9d-08a4192e9f45",
   "metadata": {
    "execution": {
     "iopub.execute_input": "2024-12-08T11:44:35.210999Z",
     "iopub.status.busy": "2024-12-08T11:44:35.210653Z",
     "iopub.status.idle": "2024-12-08T11:44:35.309301Z",
     "shell.execute_reply": "2024-12-08T11:44:35.308700Z",
     "shell.execute_reply.started": "2024-12-08T11:44:35.210970Z"
    }
   },
   "outputs": [
    {
     "name": "stderr",
     "output_type": "stream",
     "text": [
      "INFO: Created TensorFlow Lite XNNPACK delegate for CPU.\n"
     ]
    },
    {
     "data": {
      "text/plain": [
       "13"
      ]
     },
     "execution_count": 8,
     "metadata": {},
     "output_type": "execute_result"
    }
   ],
   "source": [
    "interpreter = tflite.Interpreter(model_path=tflite_model_path)\n",
    "interpreter.allocate_tensors()\n",
    "\n",
    "input_index = interpreter.get_input_details()[0]['index']\n",
    "output_index = interpreter.get_output_details()[0]['index']\n",
    "output_index"
   ]
  },
  {
   "cell_type": "markdown",
   "id": "12ef7c24-491c-437c-9f7c-93309b162a21",
   "metadata": {},
   "source": [
    "## Preparing the image\n",
    "\n",
    "You'll need some code for downloading and resizing images. You can use \n",
    "this code:\n",
    "\n",
    "```python\n",
    "from io import BytesIO\n",
    "from urllib import request\n",
    "\n",
    "from PIL import Image\n",
    "\n",
    "def download_image(url):\n",
    "    with request.urlopen(url) as resp:\n",
    "        buffer = resp.read()\n",
    "    stream = BytesIO(buffer)\n",
    "    img = Image.open(stream)\n",
    "    return img\n",
    "\n",
    "\n",
    "def prepare_image(img, target_size):\n",
    "    if img.mode != 'RGB':\n",
    "        img = img.convert('RGB')\n",
    "    img = img.resize(target_size, Image.NEAREST)\n",
    "    return img\n",
    "```\n",
    "\n",
    "For that, you'll need to have `pillow` installed:\n",
    "\n",
    "```bash\n",
    "pip install pillow\n",
    "```\n",
    "\n",
    "Let's download and resize this image: \n",
    "\n",
    "[https://habrastorage.org/webt/yf/_d/ok/yf_dokzqy3vcritme8ggnzqlvwa.jpeg](https://habrastorage.org/webt/yf/_d/ok/yf_dokzqy3vcritme8ggnzqlvwa.jpeg)\n",
    "\n",
    "Based on the previous homework, what should be the target size for the image?"
   ]
  },
  {
   "cell_type": "code",
   "execution_count": 9,
   "id": "0b289f17-715e-4499-a7ce-889acf66e8ce",
   "metadata": {
    "execution": {
     "iopub.execute_input": "2024-12-08T11:44:35.310613Z",
     "iopub.status.busy": "2024-12-08T11:44:35.310036Z",
     "iopub.status.idle": "2024-12-08T11:44:35.315064Z",
     "shell.execute_reply": "2024-12-08T11:44:35.314640Z",
     "shell.execute_reply.started": "2024-12-08T11:44:35.310588Z"
    }
   },
   "outputs": [],
   "source": [
    "#!wget https://habrastorage.org/webt/yf/_d/ok/yf_dokzqy3vcritme8ggnzqlvwa.jpeg"
   ]
  },
  {
   "cell_type": "code",
   "execution_count": 10,
   "id": "71464a5a-095c-4d11-8a82-ca598aac9846",
   "metadata": {
    "execution": {
     "iopub.execute_input": "2024-12-08T11:44:35.316382Z",
     "iopub.status.busy": "2024-12-08T11:44:35.315811Z",
     "iopub.status.idle": "2024-12-08T11:44:35.322203Z",
     "shell.execute_reply": "2024-12-08T11:44:35.321775Z",
     "shell.execute_reply.started": "2024-12-08T11:44:35.316350Z"
    }
   },
   "outputs": [],
   "source": [
    "def download_image(url):\n",
    "    with request.urlopen(url) as resp:\n",
    "        buffer = resp.read()\n",
    "    stream = BytesIO(buffer)\n",
    "    img = Image.open(stream)\n",
    "    return img\n",
    "\n",
    "def prepare_image(img_path, target_size):\n",
    "    # modify code to load manually downloaded img without calling download_image(url)\n",
    "     with Image.open(img_path) as img:\n",
    "        if img.mode != 'RGB':\n",
    "            img = img.convert('RGB')\n",
    "        img = img.resize(target_size, Image.NEAREST)\n",
    "        return img"
   ]
  },
  {
   "cell_type": "code",
   "execution_count": 11,
   "id": "da65033a-78c7-483f-a511-2c760a63fe2e",
   "metadata": {
    "execution": {
     "iopub.execute_input": "2024-12-08T11:44:35.323424Z",
     "iopub.status.busy": "2024-12-08T11:44:35.322762Z",
     "iopub.status.idle": "2024-12-08T11:44:35.343296Z",
     "shell.execute_reply": "2024-12-08T11:44:35.342809Z",
     "shell.execute_reply.started": "2024-12-08T11:44:35.323406Z"
    }
   },
   "outputs": [],
   "source": [
    "img = 'yf_dokzqy3vcritme8ggnzqlvwa.jpeg'\n",
    "target_size = (200,200)\n",
    "# img = download_image(url)\n",
    "img = prepare_image(img, target_size)"
   ]
  },
  {
   "cell_type": "markdown",
   "id": "82f158bd-d7f1-4ea8-8792-36551f84d662",
   "metadata": {},
   "source": [
    "## Question 3\n",
    "\n",
    "Now we need to turn the image into numpy array and pre-process it. \n",
    "\n",
    "> Tip: Check the previous homework. What was the pre-processing \n",
    "> we did there?\n",
    "\n",
    "After the pre-processing, what's the value in the first pixel, the R channel?\n",
    "\n",
    "* 0.24\n",
    "* 0.44\n",
    "* 0.64\n",
    "* 0.84"
   ]
  },
  {
   "cell_type": "code",
   "execution_count": 12,
   "id": "25c413a9-fbd8-4426-89d9-5ac0ac575159",
   "metadata": {
    "execution": {
     "iopub.execute_input": "2024-12-08T11:44:35.344153Z",
     "iopub.status.busy": "2024-12-08T11:44:35.343921Z",
     "iopub.status.idle": "2024-12-08T11:44:35.346975Z",
     "shell.execute_reply": "2024-12-08T11:44:35.346474Z",
     "shell.execute_reply.started": "2024-12-08T11:44:35.344136Z"
    }
   },
   "outputs": [],
   "source": [
    "def preprocess_input(x):\n",
    "    # x /= 127.5\n",
    "    # x -= 1.\n",
    "    x /= 255\n",
    "    return x"
   ]
  },
  {
   "cell_type": "code",
   "execution_count": 13,
   "id": "08824a88-b4a5-44d6-95de-2036b18bb82f",
   "metadata": {
    "execution": {
     "iopub.execute_input": "2024-12-08T11:44:35.348021Z",
     "iopub.status.busy": "2024-12-08T11:44:35.347667Z",
     "iopub.status.idle": "2024-12-08T11:44:35.353060Z",
     "shell.execute_reply": "2024-12-08T11:44:35.352528Z",
     "shell.execute_reply.started": "2024-12-08T11:44:35.347994Z"
    }
   },
   "outputs": [],
   "source": [
    "x = np.array(img, dtype='float32')\n",
    "X = np.array([x])\n",
    "\n",
    "X = preprocess_input(X)"
   ]
  },
  {
   "cell_type": "code",
   "execution_count": 14,
   "id": "2a00e41f-30d4-4c0b-b81c-eded96ec2031",
   "metadata": {
    "execution": {
     "iopub.execute_input": "2024-12-08T11:44:35.354071Z",
     "iopub.status.busy": "2024-12-08T11:44:35.353742Z",
     "iopub.status.idle": "2024-12-08T11:44:35.359322Z",
     "shell.execute_reply": "2024-12-08T11:44:35.358766Z",
     "shell.execute_reply.started": "2024-12-08T11:44:35.354043Z"
    }
   },
   "outputs": [
    {
     "data": {
      "text/plain": [
       "(1, 200, 200, 3)"
      ]
     },
     "execution_count": 14,
     "metadata": {},
     "output_type": "execute_result"
    }
   ],
   "source": [
    "X.shape"
   ]
  },
  {
   "cell_type": "code",
   "execution_count": 15,
   "id": "968e7bf4-1a7b-4602-8c6c-326d1745912f",
   "metadata": {
    "execution": {
     "iopub.execute_input": "2024-12-08T11:44:35.360109Z",
     "iopub.status.busy": "2024-12-08T11:44:35.359888Z",
     "iopub.status.idle": "2024-12-08T11:44:35.365743Z",
     "shell.execute_reply": "2024-12-08T11:44:35.365277Z",
     "shell.execute_reply.started": "2024-12-08T11:44:35.360093Z"
    }
   },
   "outputs": [
    {
     "data": {
      "text/plain": [
       "array([0.23921569], dtype=float32)"
      ]
     },
     "execution_count": 15,
     "metadata": {},
     "output_type": "execute_result"
    }
   ],
   "source": [
    "X[:,0,0,0]"
   ]
  },
  {
   "cell_type": "markdown",
   "id": "9e988db0-1af4-42f2-81f5-31230849ec15",
   "metadata": {},
   "source": [
    "## Question 4\n",
    "\n",
    "Now let's apply this model to this image. What's the output of the model?\n",
    "\n",
    "* 0.293\n",
    "* 0.493\n",
    "* 0.693\n",
    "* 0.893"
   ]
  },
  {
   "cell_type": "code",
   "execution_count": 16,
   "id": "e2994b5a-44b6-46be-b0ac-8127fe9e17fd",
   "metadata": {
    "execution": {
     "iopub.execute_input": "2024-12-08T11:44:35.366740Z",
     "iopub.status.busy": "2024-12-08T11:44:35.366389Z",
     "iopub.status.idle": "2024-12-08T11:44:35.381317Z",
     "shell.execute_reply": "2024-12-08T11:44:35.380825Z",
     "shell.execute_reply.started": "2024-12-08T11:44:35.366713Z"
    }
   },
   "outputs": [
    {
     "data": {
      "text/plain": [
       "array([[0.8937741]], dtype=float32)"
      ]
     },
     "execution_count": 16,
     "metadata": {},
     "output_type": "execute_result"
    }
   ],
   "source": [
    "interpreter.set_tensor(input_index, X)\n",
    "interpreter.invoke()\n",
    "preds = interpreter.get_tensor(output_index)\n",
    "preds"
   ]
  },
  {
   "cell_type": "markdown",
   "id": "f947aef5-1bd7-49a3-ba68-0251e921ae2e",
   "metadata": {},
   "source": [
    "## Prepare the lambda code \n",
    "\n",
    "Now you need to copy all the code into a separate python file. You will \n",
    "need to use this file for the next two questions.\n",
    "\n",
    "Tip: you can test this file locally with `ipython` or Jupyter Notebook \n",
    "by importing the file and invoking the function from this file.  \n",
    "\n",
    "\n",
    "## Docker \n",
    "\n",
    "For the next two questions, we'll use a Docker image that we already \n",
    "prepared. This is the Dockerfile that we used for creating the image:\n",
    "\n",
    "```docker\n",
    "FROM public.ecr.aws/lambda/python:3.10\n",
    "\n",
    "COPY model_2024_hairstyle_v2.tflite .\n",
    "\n",
    "RUN pip install numpy==1.23.1\n",
    "```\n",
    "\n",
    "Note that it uses Python 3.10. The latest models of TF Lite\n",
    "do not support Python 3.12 yet, so we need to use 3.10. Also,\n",
    "for this part, we will use TensorFlow 2.14.0. We have tested\n",
    "it, and the models created with 2.17 could be served with 2.14.0.\n",
    "\n",
    "For that image, we also needed to use an older version of numpy\n",
    "(1.23.1)\n",
    "\n",
    "The docker image is published to [`agrigorev/model-2024-hairstyle:v3`](https://hub.docker.com/r/agrigorev/model-2024-hairstyle/tags).\n",
    "\n",
    "A few notes:\n",
    "\n",
    "* The image already contains a model and it's not the same model\n",
    "  as the one we used for questions 1-4.\n",
    "* The wheel for this combination that you'll need to use in your Docker image is https://github.com/alexeygrigorev/tflite-aws-lambda/raw/main/tflite/tflite_runtime-2.14.0-cp310-cp310-linux_x86_64.whl"
   ]
  },
  {
   "cell_type": "markdown",
   "id": "dc552cc7-c1f9-45d1-83b7-4fdbd4d6b230",
   "metadata": {},
   "source": [
    "## Question 5\n",
    "\n",
    "Download the base image `agrigorev/model-2024-hairstyle:v3`. You can do it with [`docker pull`](https://docs.docker.com/engine/reference/commandline/pull/).\n",
    "\n",
    "So what's the size of this base image?\n",
    "\n",
    "* 182 Mb\n",
    "* 382 Mb\n",
    "* 582 Mb\n",
    "* 782 Mb\n",
    "\n",
    "You can get this information when running `docker images` - it'll be in the \"SIZE\" column."
   ]
  },
  {
   "cell_type": "markdown",
   "id": "eda8784c-373a-4c14-ac50-943f54e85e9d",
   "metadata": {},
   "source": [
    "## Question 6\n",
    "\n",
    "Now let's extend this docker image, install all the required libraries\n",
    "and add the code for lambda.\n",
    "\n",
    "You don't need to include the model in the image. It's already included. \n",
    "The name of the file with the model is `model_2024_hairstyle_v2.tflite` and it's \n",
    "in the current workdir in the image (see the Dockerfile above for the \n",
    "reference). \n",
    "The provided model requires the same preprocessing for images regarding target size and rescaling the value range than used in homework 8.\n",
    "\n",
    "Now run the container locally.\n",
    "\n",
    "Score this image: https://habrastorage.org/webt/yf/_d/ok/yf_dokzqy3vcritme8ggnzqlvwa.jpeg\n",
    "\n",
    "What's the output from the model?\n",
    "\n",
    "* 0.229\n",
    "* 0.429\n",
    "* 0.629\n",
    "* 0.829"
   ]
  },
  {
   "cell_type": "markdown",
   "id": "242c7235-4590-4323-a37d-c1c9f8fc8067",
   "metadata": {},
   "source": [
    "## Publishing it to AWS\n",
    "\n",
    "Now you can deploy your model to AWS!\n",
    "\n",
    "* Publish your image to ECR\n",
    "* Create a lambda function in AWS, use the ECR image\n",
    "* Give it more RAM and increase the timeout \n",
    "* Test it\n",
    "* Expose the lambda function using API Gateway\n",
    "\n",
    "This is optional and not graded.\n",
    "\n",
    "\n",
    "## Publishing to Docker hub\n",
    "\n",
    "Just for the reference, this is how we published our image to Docker hub:\n",
    "\n",
    "```bash\n",
    "docker build -t model-2024-hairstyle -f homework.dockerfile .\n",
    "docker tag model-2024-hairstyle:latest agrigorev/model-2024-hairstyle:v3\n",
    "docker push agrigorev/model-2024-hairstyle:v3\n",
    "```\n",
    "\n",
    "(You don't need to execute this code)"
   ]
  }
 ],
 "metadata": {
  "kernelspec": {
   "display_name": "saturn (Python 3)",
   "language": "python",
   "name": "python3"
  },
  "language_info": {
   "codemirror_mode": {
    "name": "ipython",
    "version": 3
   },
   "file_extension": ".py",
   "mimetype": "text/x-python",
   "name": "python",
   "nbconvert_exporter": "python",
   "pygments_lexer": "ipython3",
   "version": "3.12.7"
  }
 },
 "nbformat": 4,
 "nbformat_minor": 5
}
