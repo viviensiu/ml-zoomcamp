{
 "cells": [
  {
   "cell_type": "markdown",
   "id": "73bfcc68-12d0-4c6d-b51c-7c702f03658e",
   "metadata": {},
   "source": [
    "## Homework\n",
    "\n",
    "In this homework, we'll deploy the Straight vs Curly Hair Type model we trained in the \n",
    "[previous homework](../08-deep-learning/homework.md).\n",
    "\n",
    "Download the model from here: \n",
    "\n",
    "[https://github.com/alexeygrigorev/large-datasets/releases/download/hairstyle/model_2024_hairstyle.keras](https://github.com/alexeygrigorev/large-datasets/releases/download/hairstyle/model_2024_hairstyle.keras)"
   ]
  },
  {
   "cell_type": "markdown",
   "id": "def836c3-e328-4091-a6e5-b7c7fbace249",
   "metadata": {},
   "source": [
    "## Question 1\n",
    "\n",
    "Now convert this model from Keras to TF-Lite format.\n",
    "\n",
    "What's the size of the **converted** model?\n",
    "\n",
    "* 27 Mb\n",
    "* 43 Mb\n",
    "* 77 Mb\n",
    "* 127 Mb"
   ]
  },
  {
   "cell_type": "code",
   "execution_count": 5,
   "id": "344667bb-cdf5-405b-af96-2af83492d828",
   "metadata": {},
   "outputs": [
    {
     "ename": "ModuleNotFoundError",
     "evalue": "No module named 'tensorflow'",
     "output_type": "error",
     "traceback": [
      "\u001b[0;31m---------------------------------------------------------------------------\u001b[0m",
      "\u001b[0;31mModuleNotFoundError\u001b[0m                       Traceback (most recent call last)",
      "Cell \u001b[0;32mIn[5], line 3\u001b[0m\n\u001b[1;32m      1\u001b[0m \u001b[38;5;28;01mimport\u001b[39;00m \u001b[38;5;21;01mnumpy\u001b[39;00m \u001b[38;5;28;01mas\u001b[39;00m \u001b[38;5;21;01mnp\u001b[39;00m\n\u001b[0;32m----> 3\u001b[0m \u001b[38;5;28;01mimport\u001b[39;00m \u001b[38;5;21;01mtensorflow\u001b[39;00m \u001b[38;5;28;01mas\u001b[39;00m \u001b[38;5;21;01mtf\u001b[39;00m\n\u001b[1;32m      4\u001b[0m \u001b[38;5;28;01mfrom\u001b[39;00m \u001b[38;5;21;01mtensorflow\u001b[39;00m \u001b[38;5;28;01mimport\u001b[39;00m keras\n",
      "\u001b[0;31mModuleNotFoundError\u001b[0m: No module named 'tensorflow'"
     ]
    }
   ],
   "source": [
    "import numpy as np\n",
    "\n",
    "import tensorflow as tf\n",
    "from tensorflow import keras"
   ]
  },
  {
   "cell_type": "code",
   "execution_count": null,
   "id": "fd8b0349-7cea-4526-8b68-d5fb9fe1a6fd",
   "metadata": {},
   "outputs": [],
   "source": [
    "model = keras.models.load_model('model_2024_hairstyle.keras')"
   ]
  },
  {
   "cell_type": "code",
   "execution_count": null,
   "id": "b442c841-c021-4d46-b8ea-9e83e9491070",
   "metadata": {},
   "outputs": [],
   "source": [
    "converter = tf.lite.TFLiteConverter.from_keras_model(model)\n",
    "\n",
    "tflite_model = converter.convert()\n",
    "\n",
    "with open('clothing-model.tflite', 'wb') as f_out:\n",
    "    f_out.write(tflite_model)"
   ]
  },
  {
   "cell_type": "markdown",
   "id": "5b067a5d-3159-4016-8c7e-6685486c87d9",
   "metadata": {},
   "source": [
    "## Question 2\n",
    "\n",
    "To be able to use this model, we need to know the index of the input and \n",
    "the index of the output. \n",
    "\n",
    "What's the output index for this model?\n",
    "\n",
    "* 3\n",
    "* 7\n",
    "* 13\n",
    "* 24"
   ]
  },
  {
   "cell_type": "markdown",
   "id": "12ef7c24-491c-437c-9f7c-93309b162a21",
   "metadata": {},
   "source": [
    "## Preparing the image\n",
    "\n",
    "You'll need some code for downloading and resizing images. You can use \n",
    "this code:\n",
    "\n",
    "```python\n",
    "from io import BytesIO\n",
    "from urllib import request\n",
    "\n",
    "from PIL import Image\n",
    "\n",
    "def download_image(url):\n",
    "    with request.urlopen(url) as resp:\n",
    "        buffer = resp.read()\n",
    "    stream = BytesIO(buffer)\n",
    "    img = Image.open(stream)\n",
    "    return img\n",
    "\n",
    "\n",
    "def prepare_image(img, target_size):\n",
    "    if img.mode != 'RGB':\n",
    "        img = img.convert('RGB')\n",
    "    img = img.resize(target_size, Image.NEAREST)\n",
    "    return img\n",
    "```\n",
    "\n",
    "For that, you'll need to have `pillow` installed:\n",
    "\n",
    "```bash\n",
    "pip install pillow\n",
    "```\n",
    "\n",
    "Let's download and resize this image: \n",
    "\n",
    "[https://habrastorage.org/webt/yf/_d/ok/yf_dokzqy3vcritme8ggnzqlvwa.jpeg](https://habrastorage.org/webt/yf/_d/ok/yf_dokzqy3vcritme8ggnzqlvwa.jpeg)\n",
    "\n",
    "Based on the previous homework, what should be the target size for the image?"
   ]
  },
  {
   "cell_type": "markdown",
   "id": "82f158bd-d7f1-4ea8-8792-36551f84d662",
   "metadata": {},
   "source": [
    "## Question 3\n",
    "\n",
    "Now we need to turn the image into numpy array and pre-process it. \n",
    "\n",
    "> Tip: Check the previous homework. What was the pre-processing \n",
    "> we did there?\n",
    "\n",
    "After the pre-processing, what's the value in the first pixel, the R channel?\n",
    "\n",
    "* 0.24\n",
    "* 0.44\n",
    "* 0.64\n",
    "* 0.84"
   ]
  },
  {
   "cell_type": "markdown",
   "id": "9e988db0-1af4-42f2-81f5-31230849ec15",
   "metadata": {},
   "source": [
    "## Question 4\n",
    "\n",
    "Now let's apply this model to this image. What's the output of the model?\n",
    "\n",
    "* 0.293\n",
    "* 0.493\n",
    "* 0.693\n",
    "* 0.893"
   ]
  },
  {
   "cell_type": "markdown",
   "id": "f947aef5-1bd7-49a3-ba68-0251e921ae2e",
   "metadata": {},
   "source": [
    "## Prepare the lambda code \n",
    "\n",
    "Now you need to copy all the code into a separate python file. You will \n",
    "need to use this file for the next two questions.\n",
    "\n",
    "Tip: you can test this file locally with `ipython` or Jupyter Notebook \n",
    "by importing the file and invoking the function from this file.  \n",
    "\n",
    "\n",
    "## Docker \n",
    "\n",
    "For the next two questions, we'll use a Docker image that we already \n",
    "prepared. This is the Dockerfile that we used for creating the image:\n",
    "\n",
    "```docker\n",
    "FROM public.ecr.aws/lambda/python:3.10\n",
    "\n",
    "COPY model_2024_hairstyle_v2.tflite .\n",
    "\n",
    "RUN pip install numpy==1.23.1\n",
    "```\n",
    "\n",
    "Note that it uses Python 3.10. The latest models of TF Lite\n",
    "do not support Python 3.12 yet, so we need to use 3.10. Also,\n",
    "for this part, we will use TensorFlow 2.14.0. We have tested\n",
    "it, and the models created with 2.17 could be served with 2.14.0.\n",
    "\n",
    "For that image, we also needed to use an older version of numpy\n",
    "(1.23.1)\n",
    "\n",
    "The docker image is published to [`agrigorev/model-2024-hairstyle:v3`](https://hub.docker.com/r/agrigorev/model-2024-hairstyle/tags).\n",
    "\n",
    "A few notes:\n",
    "\n",
    "* The image already contains a model and it's not the same model\n",
    "  as the one we used for questions 1-4.\n",
    "* The wheel for this combination that you'll need to use in your Docker image is https://github.com/alexeygrigorev/tflite-aws-lambda/raw/main/tflite/tflite_runtime-2.14.0-cp310-cp310-linux_x86_64.whl"
   ]
  },
  {
   "cell_type": "markdown",
   "id": "dc552cc7-c1f9-45d1-83b7-4fdbd4d6b230",
   "metadata": {},
   "source": [
    "## Question 5\n",
    "\n",
    "Download the base image `agrigorev/model-2024-hairstyle:v3`. You can do it with [`docker pull`](https://docs.docker.com/engine/reference/commandline/pull/).\n",
    "\n",
    "So what's the size of this base image?\n",
    "\n",
    "* 182 Mb\n",
    "* 382 Mb\n",
    "* 582 Mb\n",
    "* 782 Mb\n",
    "\n",
    "You can get this information when running `docker images` - it'll be in the \"SIZE\" column."
   ]
  },
  {
   "cell_type": "markdown",
   "id": "eda8784c-373a-4c14-ac50-943f54e85e9d",
   "metadata": {},
   "source": [
    "## Question 6\n",
    "\n",
    "Now let's extend this docker image, install all the required libraries\n",
    "and add the code for lambda.\n",
    "\n",
    "You don't need to include the model in the image. It's already included. \n",
    "The name of the file with the model is `model_2024_hairstyle_v2.tflite` and it's \n",
    "in the current workdir in the image (see the Dockerfile above for the \n",
    "reference). \n",
    "The provided model requires the same preprocessing for images regarding target size and rescaling the value range than used in homework 8.\n",
    "\n",
    "Now run the container locally.\n",
    "\n",
    "Score this image: https://habrastorage.org/webt/yf/_d/ok/yf_dokzqy3vcritme8ggnzqlvwa.jpeg\n",
    "\n",
    "What's the output from the model?\n",
    "\n",
    "* 0.229\n",
    "* 0.429\n",
    "* 0.629\n",
    "* 0.829"
   ]
  },
  {
   "cell_type": "markdown",
   "id": "242c7235-4590-4323-a37d-c1c9f8fc8067",
   "metadata": {},
   "source": [
    "## Publishing it to AWS\n",
    "\n",
    "Now you can deploy your model to AWS!\n",
    "\n",
    "* Publish your image to ECR\n",
    "* Create a lambda function in AWS, use the ECR image\n",
    "* Give it more RAM and increase the timeout \n",
    "* Test it\n",
    "* Expose the lambda function using API Gateway\n",
    "\n",
    "This is optional and not graded.\n",
    "\n",
    "\n",
    "## Publishing to Docker hub\n",
    "\n",
    "Just for the reference, this is how we published our image to Docker hub:\n",
    "\n",
    "```bash\n",
    "docker build -t model-2024-hairstyle -f homework.dockerfile .\n",
    "docker tag model-2024-hairstyle:latest agrigorev/model-2024-hairstyle:v3\n",
    "docker push agrigorev/model-2024-hairstyle:v3\n",
    "```\n",
    "\n",
    "(You don't need to execute this code)"
   ]
  }
 ],
 "metadata": {
  "kernelspec": {
   "display_name": "Python 3 (ipykernel)",
   "language": "python",
   "name": "python3"
  },
  "language_info": {
   "codemirror_mode": {
    "name": "ipython",
    "version": 3
   },
   "file_extension": ".py",
   "mimetype": "text/x-python",
   "name": "python",
   "nbconvert_exporter": "python",
   "pygments_lexer": "ipython3",
   "version": "3.11.5"
  }
 },
 "nbformat": 4,
 "nbformat_minor": 5
}
